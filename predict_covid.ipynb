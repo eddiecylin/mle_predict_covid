{
 "cells": [
  {
   "cell_type": "markdown",
   "metadata": {},
   "source": [
    "# Import Libs"
   ]
  },
  {
   "cell_type": "code",
   "execution_count": 13,
   "metadata": {
    "ExecuteTime": {
     "end_time": "2020-09-21T10:22:19.677700Z",
     "start_time": "2020-09-21T10:22:19.590598Z"
    }
   },
   "outputs": [
    {
     "ename": "ModuleNotFoundError",
     "evalue": "No module named 'jupyternotify'",
     "output_type": "error",
     "traceback": [
      "\u001b[0;31m---------------------------------------------------------------------------\u001b[0m",
      "\u001b[0;31mModuleNotFoundError\u001b[0m                       Traceback (most recent call last)",
      "\u001b[0;32m/var/folders/m8/3jwnh0gx0kv1sd0s74tk67_h0000gn/T/ipykernel_18706/2756383715.py\u001b[0m in \u001b[0;36m<module>\u001b[0;34m\u001b[0m\n\u001b[1;32m      7\u001b[0m \u001b[0;32mfrom\u001b[0m \u001b[0mIPython\u001b[0m\u001b[0;34m.\u001b[0m\u001b[0mcore\u001b[0m\u001b[0;34m.\u001b[0m\u001b[0minteractiveshell\u001b[0m \u001b[0;32mimport\u001b[0m \u001b[0mInteractiveShell\u001b[0m\u001b[0;34m\u001b[0m\u001b[0;34m\u001b[0m\u001b[0m\n\u001b[1;32m      8\u001b[0m \u001b[0mInteractiveShell\u001b[0m\u001b[0;34m.\u001b[0m\u001b[0mast_node_interactivity\u001b[0m \u001b[0;34m=\u001b[0m \u001b[0;34m\"all\"\u001b[0m\u001b[0;34m\u001b[0m\u001b[0;34m\u001b[0m\u001b[0m\n\u001b[0;32m----> 9\u001b[0;31m \u001b[0;32mimport\u001b[0m \u001b[0mjupyternotify\u001b[0m\u001b[0;34m\u001b[0m\u001b[0;34m\u001b[0m\u001b[0m\n\u001b[0m\u001b[1;32m     10\u001b[0m \u001b[0mip\u001b[0m \u001b[0;34m=\u001b[0m \u001b[0mget_ipython\u001b[0m\u001b[0;34m(\u001b[0m\u001b[0;34m)\u001b[0m\u001b[0;34m\u001b[0m\u001b[0;34m\u001b[0m\u001b[0m\n\u001b[1;32m     11\u001b[0m \u001b[0mip\u001b[0m\u001b[0;34m.\u001b[0m\u001b[0mregister_magics\u001b[0m\u001b[0;34m(\u001b[0m\u001b[0mjupyternotify\u001b[0m\u001b[0;34m.\u001b[0m\u001b[0mJupyterNotifyMagics\u001b[0m\u001b[0;34m)\u001b[0m\u001b[0;34m\u001b[0m\u001b[0;34m\u001b[0m\u001b[0m\n",
      "\u001b[0;31mModuleNotFoundError\u001b[0m: No module named 'jupyternotify'"
     ]
    }
   ],
   "source": [
    "import os\n",
    "import matplotlib.pyplot as plt\n",
    "import pandas as pd\n",
    "import seaborn as sns\n",
    "import numpy as np\n",
    "\n",
    "from IPython.core.interactiveshell import InteractiveShell\n",
    "InteractiveShell.ast_node_interactivity = \"all\"\n",
    "import jupyternotify\n",
    "ip = get_ipython()\n",
    "ip.register_magics(jupyternotify.JupyterNotifyMagics)"
   ]
  },
  {
   "cell_type": "markdown",
   "metadata": {},
   "source": [
    "# Load data"
   ]
  },
  {
   "cell_type": "code",
   "execution_count": 5,
   "metadata": {
    "ExecuteTime": {
     "end_time": "2020-09-21T07:53:37.983749Z",
     "start_time": "2020-09-21T07:53:37.974904Z"
    }
   },
   "outputs": [],
   "source": [
    "url_to_covid = 'https://covid.ourworldindata.org/data/owid-covid-data.csv'"
   ]
  },
  {
   "cell_type": "code",
   "execution_count": 6,
   "metadata": {
    "ExecuteTime": {
     "end_time": "2020-09-21T07:54:03.648832Z",
     "start_time": "2020-09-21T07:53:37.989681Z"
    }
   },
   "outputs": [],
   "source": [
    "df_orig = pd.read_csv(url_to_covid)"
   ]
  },
  {
   "cell_type": "markdown",
   "metadata": {},
   "source": [
    "# Understand structure"
   ]
  },
  {
   "cell_type": "code",
   "execution_count": 7,
   "metadata": {
    "ExecuteTime": {
     "end_time": "2020-09-21T07:54:03.665715Z",
     "start_time": "2020-09-21T07:54:03.650783Z"
    },
    "scrolled": true
   },
   "outputs": [
    {
     "data": {
      "text/plain": [
       "array(['Afghanistan', 'Africa', 'Albania', 'Algeria', 'Andorra', 'Angola',\n",
       "       'Anguilla', 'Antigua and Barbuda', 'Argentina', 'Armenia', 'Aruba',\n",
       "       'Asia', 'Australia', 'Austria', 'Azerbaijan', 'Bahamas', 'Bahrain',\n",
       "       'Bangladesh', 'Barbados', 'Belarus', 'Belgium', 'Belize', 'Benin',\n",
       "       'Bermuda', 'Bhutan', 'Bolivia', 'Bonaire Sint Eustatius and Saba',\n",
       "       'Bosnia and Herzegovina', 'Botswana', 'Brazil',\n",
       "       'British Virgin Islands', 'Brunei', 'Bulgaria', 'Burkina Faso',\n",
       "       'Burundi', 'Cambodia', 'Cameroon', 'Canada', 'Cape Verde',\n",
       "       'Cayman Islands', 'Central African Republic', 'Chad', 'Chile',\n",
       "       'China', 'Colombia', 'Comoros', 'Congo', 'Cook Islands',\n",
       "       'Costa Rica', \"Cote d'Ivoire\", 'Croatia', 'Cuba', 'Curacao',\n",
       "       'Cyprus', 'Czechia', 'Democratic Republic of Congo', 'Denmark',\n",
       "       'Djibouti', 'Dominica', 'Dominican Republic', 'Ecuador', 'Egypt',\n",
       "       'El Salvador', 'England', 'Equatorial Guinea', 'Eritrea',\n",
       "       'Estonia', 'Eswatini', 'Ethiopia', 'Europe', 'European Union',\n",
       "       'Faeroe Islands', 'Falkland Islands', 'Fiji', 'Finland', 'France',\n",
       "       'French Polynesia', 'Gabon', 'Gambia', 'Georgia', 'Germany',\n",
       "       'Ghana', 'Gibraltar', 'Greece', 'Greenland', 'Grenada', 'Guam',\n",
       "       'Guatemala', 'Guernsey', 'Guinea', 'Guinea-Bissau', 'Guyana',\n",
       "       'Haiti', 'High income', 'Honduras', 'Hong Kong', 'Hungary',\n",
       "       'Iceland', 'India', 'Indonesia', 'International', 'Iran', 'Iraq',\n",
       "       'Ireland', 'Isle of Man', 'Israel', 'Italy', 'Jamaica', 'Japan',\n",
       "       'Jersey', 'Jordan', 'Kazakhstan', 'Kenya', 'Kiribati', 'Kosovo',\n",
       "       'Kuwait', 'Kyrgyzstan', 'Laos', 'Latvia', 'Lebanon', 'Lesotho',\n",
       "       'Liberia', 'Libya', 'Liechtenstein', 'Lithuania', 'Low income',\n",
       "       'Lower middle income', 'Luxembourg', 'Macao', 'Madagascar',\n",
       "       'Malawi', 'Malaysia', 'Maldives', 'Mali', 'Malta',\n",
       "       'Marshall Islands', 'Mauritania', 'Mauritius', 'Mexico',\n",
       "       'Micronesia (country)', 'Moldova', 'Monaco', 'Mongolia',\n",
       "       'Montenegro', 'Montserrat', 'Morocco', 'Mozambique', 'Myanmar',\n",
       "       'Namibia', 'Nauru', 'Nepal', 'Netherlands', 'New Caledonia',\n",
       "       'New Zealand', 'Nicaragua', 'Niger', 'Nigeria', 'Niue',\n",
       "       'North America', 'North Korea', 'North Macedonia',\n",
       "       'Northern Cyprus', 'Northern Ireland', 'Northern Mariana Islands',\n",
       "       'Norway', 'Oceania', 'Oman', 'Pakistan', 'Palau', 'Palestine',\n",
       "       'Panama', 'Papua New Guinea', 'Paraguay', 'Peru', 'Philippines',\n",
       "       'Pitcairn', 'Poland', 'Portugal', 'Puerto Rico', 'Qatar',\n",
       "       'Romania', 'Russia', 'Rwanda', 'Saint Helena',\n",
       "       'Saint Kitts and Nevis', 'Saint Lucia',\n",
       "       'Saint Pierre and Miquelon', 'Saint Vincent and the Grenadines',\n",
       "       'Samoa', 'San Marino', 'Sao Tome and Principe', 'Saudi Arabia',\n",
       "       'Scotland', 'Senegal', 'Serbia', 'Seychelles', 'Sierra Leone',\n",
       "       'Singapore', 'Sint Maarten (Dutch part)', 'Slovakia', 'Slovenia',\n",
       "       'Solomon Islands', 'Somalia', 'South Africa', 'South America',\n",
       "       'South Korea', 'South Sudan', 'Spain', 'Sri Lanka', 'Sudan',\n",
       "       'Suriname', 'Sweden', 'Switzerland', 'Syria', 'Taiwan',\n",
       "       'Tajikistan', 'Tanzania', 'Thailand', 'Timor', 'Togo', 'Tokelau',\n",
       "       'Tonga', 'Trinidad and Tobago', 'Tunisia', 'Turkey',\n",
       "       'Turkmenistan', 'Turks and Caicos Islands', 'Tuvalu', 'Uganda',\n",
       "       'Ukraine', 'United Arab Emirates', 'United Kingdom',\n",
       "       'United States', 'United States Virgin Islands',\n",
       "       'Upper middle income', 'Uruguay', 'Uzbekistan', 'Vanuatu',\n",
       "       'Vatican', 'Venezuela', 'Vietnam', 'Wales', 'Wallis and Futuna',\n",
       "       'Western Sahara', 'World', 'Yemen', 'Zambia', 'Zimbabwe'],\n",
       "      dtype=object)"
      ]
     },
     "execution_count": 7,
     "metadata": {},
     "output_type": "execute_result"
    }
   ],
   "source": [
    "df_orig.location.unique()"
   ]
  },
  {
   "cell_type": "code",
   "execution_count": 8,
   "metadata": {
    "ExecuteTime": {
     "end_time": "2020-09-21T07:54:03.677531Z",
     "start_time": "2020-09-21T07:54:03.668276Z"
    }
   },
   "outputs": [],
   "source": [
    "df = df_orig[df_orig.location == 'Austria']"
   ]
  },
  {
   "cell_type": "code",
   "execution_count": 9,
   "metadata": {
    "ExecuteTime": {
     "end_time": "2020-09-21T07:54:03.739544Z",
     "start_time": "2020-09-21T07:54:03.680429Z"
    }
   },
   "outputs": [
    {
     "data": {
      "text/html": [
       "<div>\n",
       "<style scoped>\n",
       "    .dataframe tbody tr th:only-of-type {\n",
       "        vertical-align: middle;\n",
       "    }\n",
       "\n",
       "    .dataframe tbody tr th {\n",
       "        vertical-align: top;\n",
       "    }\n",
       "\n",
       "    .dataframe thead th {\n",
       "        text-align: right;\n",
       "    }\n",
       "</style>\n",
       "<table border=\"1\" class=\"dataframe\">\n",
       "  <thead>\n",
       "    <tr style=\"text-align: right;\">\n",
       "      <th></th>\n",
       "      <th>iso_code</th>\n",
       "      <th>continent</th>\n",
       "      <th>location</th>\n",
       "      <th>date</th>\n",
       "      <th>total_cases</th>\n",
       "      <th>new_cases</th>\n",
       "      <th>new_cases_smoothed</th>\n",
       "      <th>total_deaths</th>\n",
       "      <th>new_deaths</th>\n",
       "      <th>new_deaths_smoothed</th>\n",
       "      <th>...</th>\n",
       "      <th>male_smokers</th>\n",
       "      <th>handwashing_facilities</th>\n",
       "      <th>hospital_beds_per_thousand</th>\n",
       "      <th>life_expectancy</th>\n",
       "      <th>human_development_index</th>\n",
       "      <th>population</th>\n",
       "      <th>excess_mortality_cumulative_absolute</th>\n",
       "      <th>excess_mortality_cumulative</th>\n",
       "      <th>excess_mortality</th>\n",
       "      <th>excess_mortality_cumulative_per_million</th>\n",
       "    </tr>\n",
       "  </thead>\n",
       "  <tbody>\n",
       "    <tr>\n",
       "      <th>13787</th>\n",
       "      <td>AUT</td>\n",
       "      <td>Europe</td>\n",
       "      <td>Austria</td>\n",
       "      <td>2020-02-25</td>\n",
       "      <td>2.0</td>\n",
       "      <td>2.0</td>\n",
       "      <td>NaN</td>\n",
       "      <td>NaN</td>\n",
       "      <td>NaN</td>\n",
       "      <td>NaN</td>\n",
       "      <td>...</td>\n",
       "      <td>30.9</td>\n",
       "      <td>NaN</td>\n",
       "      <td>7.37</td>\n",
       "      <td>81.54</td>\n",
       "      <td>0.922</td>\n",
       "      <td>8939617.0</td>\n",
       "      <td>NaN</td>\n",
       "      <td>NaN</td>\n",
       "      <td>NaN</td>\n",
       "      <td>NaN</td>\n",
       "    </tr>\n",
       "    <tr>\n",
       "      <th>13788</th>\n",
       "      <td>AUT</td>\n",
       "      <td>Europe</td>\n",
       "      <td>Austria</td>\n",
       "      <td>2020-02-26</td>\n",
       "      <td>1.0</td>\n",
       "      <td>NaN</td>\n",
       "      <td>NaN</td>\n",
       "      <td>NaN</td>\n",
       "      <td>NaN</td>\n",
       "      <td>NaN</td>\n",
       "      <td>...</td>\n",
       "      <td>30.9</td>\n",
       "      <td>NaN</td>\n",
       "      <td>7.37</td>\n",
       "      <td>81.54</td>\n",
       "      <td>0.922</td>\n",
       "      <td>8939617.0</td>\n",
       "      <td>NaN</td>\n",
       "      <td>NaN</td>\n",
       "      <td>NaN</td>\n",
       "      <td>NaN</td>\n",
       "    </tr>\n",
       "    <tr>\n",
       "      <th>13789</th>\n",
       "      <td>AUT</td>\n",
       "      <td>Europe</td>\n",
       "      <td>Austria</td>\n",
       "      <td>2020-02-27</td>\n",
       "      <td>1.0</td>\n",
       "      <td>0.0</td>\n",
       "      <td>NaN</td>\n",
       "      <td>NaN</td>\n",
       "      <td>NaN</td>\n",
       "      <td>NaN</td>\n",
       "      <td>...</td>\n",
       "      <td>30.9</td>\n",
       "      <td>NaN</td>\n",
       "      <td>7.37</td>\n",
       "      <td>81.54</td>\n",
       "      <td>0.922</td>\n",
       "      <td>8939617.0</td>\n",
       "      <td>NaN</td>\n",
       "      <td>NaN</td>\n",
       "      <td>NaN</td>\n",
       "      <td>NaN</td>\n",
       "    </tr>\n",
       "    <tr>\n",
       "      <th>13790</th>\n",
       "      <td>AUT</td>\n",
       "      <td>Europe</td>\n",
       "      <td>Austria</td>\n",
       "      <td>2020-02-28</td>\n",
       "      <td>1.0</td>\n",
       "      <td>0.0</td>\n",
       "      <td>NaN</td>\n",
       "      <td>NaN</td>\n",
       "      <td>NaN</td>\n",
       "      <td>NaN</td>\n",
       "      <td>...</td>\n",
       "      <td>30.9</td>\n",
       "      <td>NaN</td>\n",
       "      <td>7.37</td>\n",
       "      <td>81.54</td>\n",
       "      <td>0.922</td>\n",
       "      <td>8939617.0</td>\n",
       "      <td>NaN</td>\n",
       "      <td>NaN</td>\n",
       "      <td>NaN</td>\n",
       "      <td>NaN</td>\n",
       "    </tr>\n",
       "    <tr>\n",
       "      <th>13791</th>\n",
       "      <td>AUT</td>\n",
       "      <td>Europe</td>\n",
       "      <td>Austria</td>\n",
       "      <td>2020-02-29</td>\n",
       "      <td>3.0</td>\n",
       "      <td>2.0</td>\n",
       "      <td>NaN</td>\n",
       "      <td>NaN</td>\n",
       "      <td>NaN</td>\n",
       "      <td>NaN</td>\n",
       "      <td>...</td>\n",
       "      <td>30.9</td>\n",
       "      <td>NaN</td>\n",
       "      <td>7.37</td>\n",
       "      <td>81.54</td>\n",
       "      <td>0.922</td>\n",
       "      <td>8939617.0</td>\n",
       "      <td>NaN</td>\n",
       "      <td>NaN</td>\n",
       "      <td>NaN</td>\n",
       "      <td>NaN</td>\n",
       "    </tr>\n",
       "    <tr>\n",
       "      <th>...</th>\n",
       "      <td>...</td>\n",
       "      <td>...</td>\n",
       "      <td>...</td>\n",
       "      <td>...</td>\n",
       "      <td>...</td>\n",
       "      <td>...</td>\n",
       "      <td>...</td>\n",
       "      <td>...</td>\n",
       "      <td>...</td>\n",
       "      <td>...</td>\n",
       "      <td>...</td>\n",
       "      <td>...</td>\n",
       "      <td>...</td>\n",
       "      <td>...</td>\n",
       "      <td>...</td>\n",
       "      <td>...</td>\n",
       "      <td>...</td>\n",
       "      <td>...</td>\n",
       "      <td>...</td>\n",
       "      <td>...</td>\n",
       "      <td>...</td>\n",
       "    </tr>\n",
       "    <tr>\n",
       "      <th>14839</th>\n",
       "      <td>AUT</td>\n",
       "      <td>Europe</td>\n",
       "      <td>Austria</td>\n",
       "      <td>2023-01-12</td>\n",
       "      <td>5736630.0</td>\n",
       "      <td>2306.0</td>\n",
       "      <td>2435.000</td>\n",
       "      <td>21546.0</td>\n",
       "      <td>10.0</td>\n",
       "      <td>10.429</td>\n",
       "      <td>...</td>\n",
       "      <td>30.9</td>\n",
       "      <td>NaN</td>\n",
       "      <td>7.37</td>\n",
       "      <td>81.54</td>\n",
       "      <td>0.922</td>\n",
       "      <td>8939617.0</td>\n",
       "      <td>NaN</td>\n",
       "      <td>NaN</td>\n",
       "      <td>NaN</td>\n",
       "      <td>NaN</td>\n",
       "    </tr>\n",
       "    <tr>\n",
       "      <th>14840</th>\n",
       "      <td>AUT</td>\n",
       "      <td>Europe</td>\n",
       "      <td>Austria</td>\n",
       "      <td>2023-01-13</td>\n",
       "      <td>5738797.0</td>\n",
       "      <td>2167.0</td>\n",
       "      <td>2317.571</td>\n",
       "      <td>21558.0</td>\n",
       "      <td>12.0</td>\n",
       "      <td>10.857</td>\n",
       "      <td>...</td>\n",
       "      <td>30.9</td>\n",
       "      <td>NaN</td>\n",
       "      <td>7.37</td>\n",
       "      <td>81.54</td>\n",
       "      <td>0.922</td>\n",
       "      <td>8939617.0</td>\n",
       "      <td>NaN</td>\n",
       "      <td>NaN</td>\n",
       "      <td>NaN</td>\n",
       "      <td>NaN</td>\n",
       "    </tr>\n",
       "    <tr>\n",
       "      <th>14841</th>\n",
       "      <td>AUT</td>\n",
       "      <td>Europe</td>\n",
       "      <td>Austria</td>\n",
       "      <td>2023-01-14</td>\n",
       "      <td>5740581.0</td>\n",
       "      <td>1784.0</td>\n",
       "      <td>2338.000</td>\n",
       "      <td>21564.0</td>\n",
       "      <td>6.0</td>\n",
       "      <td>11.429</td>\n",
       "      <td>...</td>\n",
       "      <td>30.9</td>\n",
       "      <td>NaN</td>\n",
       "      <td>7.37</td>\n",
       "      <td>81.54</td>\n",
       "      <td>0.922</td>\n",
       "      <td>8939617.0</td>\n",
       "      <td>NaN</td>\n",
       "      <td>NaN</td>\n",
       "      <td>NaN</td>\n",
       "      <td>NaN</td>\n",
       "    </tr>\n",
       "    <tr>\n",
       "      <th>14842</th>\n",
       "      <td>AUT</td>\n",
       "      <td>Europe</td>\n",
       "      <td>Austria</td>\n",
       "      <td>2023-01-15</td>\n",
       "      <td>5742055.0</td>\n",
       "      <td>1474.0</td>\n",
       "      <td>2252.571</td>\n",
       "      <td>21564.0</td>\n",
       "      <td>0.0</td>\n",
       "      <td>11.000</td>\n",
       "      <td>...</td>\n",
       "      <td>30.9</td>\n",
       "      <td>NaN</td>\n",
       "      <td>7.37</td>\n",
       "      <td>81.54</td>\n",
       "      <td>0.922</td>\n",
       "      <td>8939617.0</td>\n",
       "      <td>NaN</td>\n",
       "      <td>NaN</td>\n",
       "      <td>NaN</td>\n",
       "      <td>NaN</td>\n",
       "    </tr>\n",
       "    <tr>\n",
       "      <th>14843</th>\n",
       "      <td>AUT</td>\n",
       "      <td>Europe</td>\n",
       "      <td>Austria</td>\n",
       "      <td>2023-01-16</td>\n",
       "      <td>NaN</td>\n",
       "      <td>NaN</td>\n",
       "      <td>NaN</td>\n",
       "      <td>NaN</td>\n",
       "      <td>NaN</td>\n",
       "      <td>NaN</td>\n",
       "      <td>...</td>\n",
       "      <td>30.9</td>\n",
       "      <td>NaN</td>\n",
       "      <td>7.37</td>\n",
       "      <td>81.54</td>\n",
       "      <td>0.922</td>\n",
       "      <td>8939617.0</td>\n",
       "      <td>NaN</td>\n",
       "      <td>NaN</td>\n",
       "      <td>NaN</td>\n",
       "      <td>NaN</td>\n",
       "    </tr>\n",
       "  </tbody>\n",
       "</table>\n",
       "<p>1057 rows × 67 columns</p>\n",
       "</div>"
      ],
      "text/plain": [
       "      iso_code continent location        date  total_cases  new_cases  \\\n",
       "13787      AUT    Europe  Austria  2020-02-25          2.0        2.0   \n",
       "13788      AUT    Europe  Austria  2020-02-26          1.0        NaN   \n",
       "13789      AUT    Europe  Austria  2020-02-27          1.0        0.0   \n",
       "13790      AUT    Europe  Austria  2020-02-28          1.0        0.0   \n",
       "13791      AUT    Europe  Austria  2020-02-29          3.0        2.0   \n",
       "...        ...       ...      ...         ...          ...        ...   \n",
       "14839      AUT    Europe  Austria  2023-01-12    5736630.0     2306.0   \n",
       "14840      AUT    Europe  Austria  2023-01-13    5738797.0     2167.0   \n",
       "14841      AUT    Europe  Austria  2023-01-14    5740581.0     1784.0   \n",
       "14842      AUT    Europe  Austria  2023-01-15    5742055.0     1474.0   \n",
       "14843      AUT    Europe  Austria  2023-01-16          NaN        NaN   \n",
       "\n",
       "       new_cases_smoothed  total_deaths  new_deaths  new_deaths_smoothed  ...  \\\n",
       "13787                 NaN           NaN         NaN                  NaN  ...   \n",
       "13788                 NaN           NaN         NaN                  NaN  ...   \n",
       "13789                 NaN           NaN         NaN                  NaN  ...   \n",
       "13790                 NaN           NaN         NaN                  NaN  ...   \n",
       "13791                 NaN           NaN         NaN                  NaN  ...   \n",
       "...                   ...           ...         ...                  ...  ...   \n",
       "14839            2435.000       21546.0        10.0               10.429  ...   \n",
       "14840            2317.571       21558.0        12.0               10.857  ...   \n",
       "14841            2338.000       21564.0         6.0               11.429  ...   \n",
       "14842            2252.571       21564.0         0.0               11.000  ...   \n",
       "14843                 NaN           NaN         NaN                  NaN  ...   \n",
       "\n",
       "       male_smokers  handwashing_facilities  hospital_beds_per_thousand  \\\n",
       "13787          30.9                     NaN                        7.37   \n",
       "13788          30.9                     NaN                        7.37   \n",
       "13789          30.9                     NaN                        7.37   \n",
       "13790          30.9                     NaN                        7.37   \n",
       "13791          30.9                     NaN                        7.37   \n",
       "...             ...                     ...                         ...   \n",
       "14839          30.9                     NaN                        7.37   \n",
       "14840          30.9                     NaN                        7.37   \n",
       "14841          30.9                     NaN                        7.37   \n",
       "14842          30.9                     NaN                        7.37   \n",
       "14843          30.9                     NaN                        7.37   \n",
       "\n",
       "       life_expectancy  human_development_index  population  \\\n",
       "13787            81.54                    0.922   8939617.0   \n",
       "13788            81.54                    0.922   8939617.0   \n",
       "13789            81.54                    0.922   8939617.0   \n",
       "13790            81.54                    0.922   8939617.0   \n",
       "13791            81.54                    0.922   8939617.0   \n",
       "...                ...                      ...         ...   \n",
       "14839            81.54                    0.922   8939617.0   \n",
       "14840            81.54                    0.922   8939617.0   \n",
       "14841            81.54                    0.922   8939617.0   \n",
       "14842            81.54                    0.922   8939617.0   \n",
       "14843            81.54                    0.922   8939617.0   \n",
       "\n",
       "       excess_mortality_cumulative_absolute  excess_mortality_cumulative  \\\n",
       "13787                                   NaN                          NaN   \n",
       "13788                                   NaN                          NaN   \n",
       "13789                                   NaN                          NaN   \n",
       "13790                                   NaN                          NaN   \n",
       "13791                                   NaN                          NaN   \n",
       "...                                     ...                          ...   \n",
       "14839                                   NaN                          NaN   \n",
       "14840                                   NaN                          NaN   \n",
       "14841                                   NaN                          NaN   \n",
       "14842                                   NaN                          NaN   \n",
       "14843                                   NaN                          NaN   \n",
       "\n",
       "       excess_mortality  excess_mortality_cumulative_per_million  \n",
       "13787               NaN                                      NaN  \n",
       "13788               NaN                                      NaN  \n",
       "13789               NaN                                      NaN  \n",
       "13790               NaN                                      NaN  \n",
       "13791               NaN                                      NaN  \n",
       "...                 ...                                      ...  \n",
       "14839               NaN                                      NaN  \n",
       "14840               NaN                                      NaN  \n",
       "14841               NaN                                      NaN  \n",
       "14842               NaN                                      NaN  \n",
       "14843               NaN                                      NaN  \n",
       "\n",
       "[1057 rows x 67 columns]"
      ]
     },
     "execution_count": 9,
     "metadata": {},
     "output_type": "execute_result"
    }
   ],
   "source": [
    "df"
   ]
  },
  {
   "cell_type": "code",
   "execution_count": 14,
   "metadata": {
    "ExecuteTime": {
     "end_time": "2020-09-21T07:54:10.901957Z",
     "start_time": "2020-09-21T07:54:03.746265Z"
    }
   },
   "outputs": [
    {
     "ename": "TypeError",
     "evalue": "scatterplot() takes from 0 to 1 positional arguments but 2 were given",
     "output_type": "error",
     "traceback": [
      "\u001b[0;31m---------------------------------------------------------------------------\u001b[0m",
      "\u001b[0;31mTypeError\u001b[0m                                 Traceback (most recent call last)",
      "\u001b[0;32m/var/folders/m8/3jwnh0gx0kv1sd0s74tk67_h0000gn/T/ipykernel_18706/1832413288.py\u001b[0m in \u001b[0;36m<module>\u001b[0;34m\u001b[0m\n\u001b[1;32m      1\u001b[0m \u001b[0m_\u001b[0m \u001b[0;34m=\u001b[0m \u001b[0mplt\u001b[0m\u001b[0;34m.\u001b[0m\u001b[0mfigure\u001b[0m\u001b[0;34m(\u001b[0m\u001b[0mfigsize\u001b[0m\u001b[0;34m=\u001b[0m\u001b[0;34m(\u001b[0m\u001b[0;36m30\u001b[0m\u001b[0;34m,\u001b[0m \u001b[0;36m15\u001b[0m\u001b[0;34m)\u001b[0m\u001b[0;34m)\u001b[0m\u001b[0;34m\u001b[0m\u001b[0;34m\u001b[0m\u001b[0m\n\u001b[0;32m----> 2\u001b[0;31m \u001b[0msns\u001b[0m\u001b[0;34m.\u001b[0m\u001b[0mscatterplot\u001b[0m\u001b[0;34m(\u001b[0m\u001b[0msorted\u001b[0m\u001b[0;34m(\u001b[0m\u001b[0mdf\u001b[0m\u001b[0;34m.\u001b[0m\u001b[0mdate\u001b[0m\u001b[0;34m)\u001b[0m\u001b[0;34m,\u001b[0m \u001b[0mdf\u001b[0m\u001b[0;34m.\u001b[0m\u001b[0mnew_cases\u001b[0m\u001b[0;34m)\u001b[0m\u001b[0;34m;\u001b[0m\u001b[0;34m\u001b[0m\u001b[0;34m\u001b[0m\u001b[0m\n\u001b[0m",
      "\u001b[0;31mTypeError\u001b[0m: scatterplot() takes from 0 to 1 positional arguments but 2 were given"
     ]
    },
    {
     "data": {
      "text/plain": [
       "<Figure size 3000x1500 with 0 Axes>"
      ]
     },
     "metadata": {},
     "output_type": "display_data"
    }
   ],
   "source": [
    "_ = plt.figure(figsize=(30, 15))\n",
    "sns.scatterplot(sorted(df.date), df.new_cases);"
   ]
  },
  {
   "cell_type": "markdown",
   "metadata": {},
   "source": [
    "## Check missing"
   ]
  },
  {
   "cell_type": "code",
   "execution_count": 15,
   "metadata": {
    "ExecuteTime": {
     "end_time": "2020-09-21T07:54:10.926338Z",
     "start_time": "2020-09-21T07:54:10.907578Z"
    }
   },
   "outputs": [],
   "source": [
    "df = df_orig.copy()"
   ]
  },
  {
   "cell_type": "code",
   "execution_count": 16,
   "metadata": {
    "ExecuteTime": {
     "end_time": "2020-09-21T07:54:10.994112Z",
     "start_time": "2020-09-21T07:54:10.937958Z"
    }
   },
   "outputs": [
    {
     "name": "stdout",
     "output_type": "stream",
     "text": [
      "<class 'pandas.core.frame.DataFrame'>\n",
      "RangeIndex: 250400 entries, 0 to 250399\n",
      "Data columns (total 67 columns):\n",
      " #   Column                                      Non-Null Count   Dtype  \n",
      "---  ------                                      --------------   -----  \n",
      " 0   iso_code                                    250400 non-null  object \n",
      " 1   continent                                   236330 non-null  object \n",
      " 2   location                                    250400 non-null  object \n",
      " 3   date                                        250400 non-null  object \n",
      " 4   total_cases                                 236094 non-null  float64\n",
      " 5   new_cases                                   235745 non-null  float64\n",
      " 6   new_cases_smoothed                          234541 non-null  float64\n",
      " 7   total_deaths                                216561 non-null  float64\n",
      " 8   new_deaths                                  216449 non-null  float64\n",
      " 9   new_deaths_smoothed                         215263 non-null  float64\n",
      " 10  total_cases_per_million                     235020 non-null  float64\n",
      " 11  new_cases_per_million                       234671 non-null  float64\n",
      " 12  new_cases_smoothed_per_million              233472 non-null  float64\n",
      " 13  total_deaths_per_million                    215500 non-null  float64\n",
      " 14  new_deaths_per_million                      215388 non-null  float64\n",
      " 15  new_deaths_smoothed_per_million             214207 non-null  float64\n",
      " 16  reproduction_rate                           184817 non-null  float64\n",
      " 17  icu_patients                                33623 non-null   float64\n",
      " 18  icu_patients_per_million                    33623 non-null   float64\n",
      " 19  hosp_patients                               36602 non-null   float64\n",
      " 20  hosp_patients_per_million                   36602 non-null   float64\n",
      " 21  weekly_icu_admissions                       8447 non-null    float64\n",
      " 22  weekly_icu_admissions_per_million           8447 non-null    float64\n",
      " 23  weekly_hosp_admissions                      20060 non-null   float64\n",
      " 24  weekly_hosp_admissions_per_million          20060 non-null   float64\n",
      " 25  total_tests                                 79387 non-null   float64\n",
      " 26  new_tests                                   75403 non-null   float64\n",
      " 27  total_tests_per_thousand                    79387 non-null   float64\n",
      " 28  new_tests_per_thousand                      75403 non-null   float64\n",
      " 29  new_tests_smoothed                          103965 non-null  float64\n",
      " 30  new_tests_smoothed_per_thousand             103965 non-null  float64\n",
      " 31  positive_rate                               95927 non-null   float64\n",
      " 32  tests_per_case                              94348 non-null   float64\n",
      " 33  tests_units                                 106788 non-null  object \n",
      " 34  total_vaccinations                          70709 non-null   float64\n",
      " 35  people_vaccinated                           67596 non-null   float64\n",
      " 36  people_fully_vaccinated                     64941 non-null   float64\n",
      " 37  total_boosters                              39631 non-null   float64\n",
      " 38  new_vaccinations                            58635 non-null   float64\n",
      " 39  new_vaccinations_smoothed                   149216 non-null  float64\n",
      " 40  total_vaccinations_per_hundred              70709 non-null   float64\n",
      " 41  people_vaccinated_per_hundred               67596 non-null   float64\n",
      " 42  people_fully_vaccinated_per_hundred         64941 non-null   float64\n",
      " 43  total_boosters_per_hundred                  39631 non-null   float64\n",
      " 44  new_vaccinations_smoothed_per_million       149216 non-null  float64\n",
      " 45  new_people_vaccinated_smoothed              148961 non-null  float64\n",
      " 46  new_people_vaccinated_smoothed_per_hundred  148961 non-null  float64\n",
      " 47  stringency_index                            183961 non-null  float64\n",
      " 48  population_density                          218150 non-null  float64\n",
      " 49  median_age                                  201782 non-null  float64\n",
      " 50  aged_65_older                               199655 non-null  float64\n",
      " 51  aged_70_older                               200727 non-null  float64\n",
      " 52  gdp_per_capita                              201384 non-null  float64\n",
      " 53  extreme_poverty                             131147 non-null  float64\n",
      " 54  cardiovasc_death_rate                       201195 non-null  float64\n",
      " 55  diabetes_prevalence                         211729 non-null  float64\n",
      " 56  female_smokers                              152532 non-null  float64\n",
      " 57  male_smokers                                150445 non-null  float64\n",
      " 58  handwashing_facilities                      99222 non-null   float64\n",
      " 59  hospital_beds_per_thousand                  179341 non-null  float64\n",
      " 60  life_expectancy                             229714 non-null  float64\n",
      " 61  human_development_index                     196597 non-null  float64\n",
      " 62  population                                  249326 non-null  float64\n",
      " 63  excess_mortality_cumulative_absolute        8240 non-null    float64\n",
      " 64  excess_mortality_cumulative                 8240 non-null    float64\n",
      " 65  excess_mortality                            8279 non-null    float64\n",
      " 66  excess_mortality_cumulative_per_million     8240 non-null    float64\n",
      "dtypes: float64(62), object(5)\n",
      "memory usage: 128.0+ MB\n"
     ]
    }
   ],
   "source": [
    "df.info()"
   ]
  },
  {
   "cell_type": "code",
   "execution_count": 17,
   "metadata": {
    "ExecuteTime": {
     "end_time": "2020-09-21T07:54:11.040019Z",
     "start_time": "2020-09-21T07:54:11.001821Z"
    }
   },
   "outputs": [
    {
     "data": {
      "text/html": [
       "<div>\n",
       "<style scoped>\n",
       "    .dataframe tbody tr th:only-of-type {\n",
       "        vertical-align: middle;\n",
       "    }\n",
       "\n",
       "    .dataframe tbody tr th {\n",
       "        vertical-align: top;\n",
       "    }\n",
       "\n",
       "    .dataframe thead th {\n",
       "        text-align: right;\n",
       "    }\n",
       "</style>\n",
       "<table border=\"1\" class=\"dataframe\">\n",
       "  <thead>\n",
       "    <tr style=\"text-align: right;\">\n",
       "      <th></th>\n",
       "      <th>column_name</th>\n",
       "      <th>percent_missing</th>\n",
       "    </tr>\n",
       "  </thead>\n",
       "  <tbody>\n",
       "    <tr>\n",
       "      <th>excess_mortality_cumulative_per_million</th>\n",
       "      <td>excess_mortality_cumulative_per_million</td>\n",
       "      <td>96.709265</td>\n",
       "    </tr>\n",
       "    <tr>\n",
       "      <th>excess_mortality_cumulative</th>\n",
       "      <td>excess_mortality_cumulative</td>\n",
       "      <td>96.709265</td>\n",
       "    </tr>\n",
       "    <tr>\n",
       "      <th>excess_mortality_cumulative_absolute</th>\n",
       "      <td>excess_mortality_cumulative_absolute</td>\n",
       "      <td>96.709265</td>\n",
       "    </tr>\n",
       "    <tr>\n",
       "      <th>excess_mortality</th>\n",
       "      <td>excess_mortality</td>\n",
       "      <td>96.693690</td>\n",
       "    </tr>\n",
       "    <tr>\n",
       "      <th>weekly_icu_admissions</th>\n",
       "      <td>weekly_icu_admissions</td>\n",
       "      <td>96.626597</td>\n",
       "    </tr>\n",
       "    <tr>\n",
       "      <th>...</th>\n",
       "      <td>...</td>\n",
       "      <td>...</td>\n",
       "    </tr>\n",
       "    <tr>\n",
       "      <th>continent</th>\n",
       "      <td>continent</td>\n",
       "      <td>5.619010</td>\n",
       "    </tr>\n",
       "    <tr>\n",
       "      <th>population</th>\n",
       "      <td>population</td>\n",
       "      <td>0.428914</td>\n",
       "    </tr>\n",
       "    <tr>\n",
       "      <th>date</th>\n",
       "      <td>date</td>\n",
       "      <td>0.000000</td>\n",
       "    </tr>\n",
       "    <tr>\n",
       "      <th>location</th>\n",
       "      <td>location</td>\n",
       "      <td>0.000000</td>\n",
       "    </tr>\n",
       "    <tr>\n",
       "      <th>iso_code</th>\n",
       "      <td>iso_code</td>\n",
       "      <td>0.000000</td>\n",
       "    </tr>\n",
       "  </tbody>\n",
       "</table>\n",
       "<p>67 rows × 2 columns</p>\n",
       "</div>"
      ],
      "text/plain": [
       "                                                                     column_name  \\\n",
       "excess_mortality_cumulative_per_million  excess_mortality_cumulative_per_million   \n",
       "excess_mortality_cumulative                          excess_mortality_cumulative   \n",
       "excess_mortality_cumulative_absolute        excess_mortality_cumulative_absolute   \n",
       "excess_mortality                                                excess_mortality   \n",
       "weekly_icu_admissions                                      weekly_icu_admissions   \n",
       "...                                                                          ...   \n",
       "continent                                                              continent   \n",
       "population                                                            population   \n",
       "date                                                                        date   \n",
       "location                                                                location   \n",
       "iso_code                                                                iso_code   \n",
       "\n",
       "                                         percent_missing  \n",
       "excess_mortality_cumulative_per_million        96.709265  \n",
       "excess_mortality_cumulative                    96.709265  \n",
       "excess_mortality_cumulative_absolute           96.709265  \n",
       "excess_mortality                               96.693690  \n",
       "weekly_icu_admissions                          96.626597  \n",
       "...                                                  ...  \n",
       "continent                                       5.619010  \n",
       "population                                      0.428914  \n",
       "date                                            0.000000  \n",
       "location                                        0.000000  \n",
       "iso_code                                        0.000000  \n",
       "\n",
       "[67 rows x 2 columns]"
      ]
     },
     "execution_count": 17,
     "metadata": {},
     "output_type": "execute_result"
    }
   ],
   "source": [
    "percent_missing = df.isnull().sum() * 100 / len(df)\n",
    "missing_value_df = pd.DataFrame({'column_name': df.columns,\n",
    "                                 'percent_missing': percent_missing})\n",
    "\n",
    "missing_value_df.sort_values('percent_missing', inplace=True, ascending=False)\n",
    "missing_value_df"
   ]
  },
  {
   "cell_type": "code",
   "execution_count": 18,
   "metadata": {
    "ExecuteTime": {
     "end_time": "2020-09-21T07:54:11.053050Z",
     "start_time": "2020-09-21T07:54:11.042933Z"
    }
   },
   "outputs": [
    {
     "data": {
      "text/plain": [
       "31"
      ]
     },
     "execution_count": 18,
     "metadata": {},
     "output_type": "execute_result"
    },
    {
     "data": {
      "text/plain": [
       "['excess_mortality_cumulative_per_million',\n",
       " 'excess_mortality_cumulative',\n",
       " 'excess_mortality_cumulative_absolute',\n",
       " 'excess_mortality',\n",
       " 'weekly_icu_admissions',\n",
       " 'weekly_icu_admissions_per_million',\n",
       " 'weekly_hosp_admissions',\n",
       " 'weekly_hosp_admissions_per_million',\n",
       " 'icu_patients',\n",
       " 'icu_patients_per_million',\n",
       " 'hosp_patients_per_million',\n",
       " 'hosp_patients',\n",
       " 'total_boosters',\n",
       " 'total_boosters_per_hundred',\n",
       " 'new_vaccinations',\n",
       " 'people_fully_vaccinated',\n",
       " 'people_fully_vaccinated_per_hundred',\n",
       " 'people_vaccinated_per_hundred',\n",
       " 'people_vaccinated',\n",
       " 'total_vaccinations_per_hundred',\n",
       " 'total_vaccinations',\n",
       " 'new_tests_per_thousand',\n",
       " 'new_tests',\n",
       " 'total_tests_per_thousand',\n",
       " 'total_tests',\n",
       " 'tests_per_case',\n",
       " 'positive_rate',\n",
       " 'handwashing_facilities',\n",
       " 'new_tests_smoothed_per_thousand',\n",
       " 'new_tests_smoothed',\n",
       " 'tests_units']"
      ]
     },
     "execution_count": 18,
     "metadata": {},
     "output_type": "execute_result"
    }
   ],
   "source": [
    "cols_too_many_missing = missing_value_df[missing_value_df.percent_missing > 50].index.tolist()\n",
    "len(cols_too_many_missing)\n",
    "cols_too_many_missing"
   ]
  },
  {
   "cell_type": "code",
   "execution_count": 19,
   "metadata": {
    "ExecuteTime": {
     "end_time": "2020-09-21T07:54:11.065052Z",
     "start_time": "2020-09-21T07:54:11.056183Z"
    }
   },
   "outputs": [
    {
     "data": {
      "text/plain": [
       "67"
      ]
     },
     "execution_count": 19,
     "metadata": {},
     "output_type": "execute_result"
    }
   ],
   "source": [
    "len(df.columns)"
   ]
  },
  {
   "cell_type": "code",
   "execution_count": 20,
   "metadata": {
    "ExecuteTime": {
     "end_time": "2020-09-21T07:54:11.079291Z",
     "start_time": "2020-09-21T07:54:11.069966Z"
    }
   },
   "outputs": [],
   "source": [
    "df_reduced = df.drop(columns=cols_too_many_missing)"
   ]
  },
  {
   "cell_type": "code",
   "execution_count": 21,
   "metadata": {
    "ExecuteTime": {
     "end_time": "2020-09-21T07:54:11.087006Z",
     "start_time": "2020-09-21T07:54:11.081446Z"
    }
   },
   "outputs": [
    {
     "data": {
      "text/plain": [
       "36"
      ]
     },
     "execution_count": 21,
     "metadata": {},
     "output_type": "execute_result"
    }
   ],
   "source": [
    "len(df_reduced.columns)"
   ]
  },
  {
   "cell_type": "code",
   "execution_count": 22,
   "metadata": {
    "ExecuteTime": {
     "end_time": "2020-09-21T07:54:11.161101Z",
     "start_time": "2020-09-21T07:54:11.089148Z"
    }
   },
   "outputs": [
    {
     "data": {
      "text/html": [
       "<div>\n",
       "<style scoped>\n",
       "    .dataframe tbody tr th:only-of-type {\n",
       "        vertical-align: middle;\n",
       "    }\n",
       "\n",
       "    .dataframe tbody tr th {\n",
       "        vertical-align: top;\n",
       "    }\n",
       "\n",
       "    .dataframe thead th {\n",
       "        text-align: right;\n",
       "    }\n",
       "</style>\n",
       "<table border=\"1\" class=\"dataframe\">\n",
       "  <thead>\n",
       "    <tr style=\"text-align: right;\">\n",
       "      <th></th>\n",
       "      <th>iso_code</th>\n",
       "      <th>continent</th>\n",
       "      <th>location</th>\n",
       "      <th>date</th>\n",
       "      <th>total_cases</th>\n",
       "      <th>new_cases</th>\n",
       "      <th>new_cases_smoothed</th>\n",
       "      <th>total_deaths</th>\n",
       "      <th>new_deaths</th>\n",
       "      <th>new_deaths_smoothed</th>\n",
       "      <th>...</th>\n",
       "      <th>gdp_per_capita</th>\n",
       "      <th>extreme_poverty</th>\n",
       "      <th>cardiovasc_death_rate</th>\n",
       "      <th>diabetes_prevalence</th>\n",
       "      <th>female_smokers</th>\n",
       "      <th>male_smokers</th>\n",
       "      <th>hospital_beds_per_thousand</th>\n",
       "      <th>life_expectancy</th>\n",
       "      <th>human_development_index</th>\n",
       "      <th>population</th>\n",
       "    </tr>\n",
       "  </thead>\n",
       "  <tbody>\n",
       "    <tr>\n",
       "      <th>0</th>\n",
       "      <td>AFG</td>\n",
       "      <td>Asia</td>\n",
       "      <td>Afghanistan</td>\n",
       "      <td>2020-02-24</td>\n",
       "      <td>5.0</td>\n",
       "      <td>5.0</td>\n",
       "      <td>NaN</td>\n",
       "      <td>NaN</td>\n",
       "      <td>NaN</td>\n",
       "      <td>NaN</td>\n",
       "      <td>...</td>\n",
       "      <td>1803.987</td>\n",
       "      <td>NaN</td>\n",
       "      <td>597.029</td>\n",
       "      <td>9.59</td>\n",
       "      <td>NaN</td>\n",
       "      <td>NaN</td>\n",
       "      <td>0.5</td>\n",
       "      <td>64.83</td>\n",
       "      <td>0.511</td>\n",
       "      <td>41128772.0</td>\n",
       "    </tr>\n",
       "    <tr>\n",
       "      <th>1</th>\n",
       "      <td>AFG</td>\n",
       "      <td>Asia</td>\n",
       "      <td>Afghanistan</td>\n",
       "      <td>2020-02-25</td>\n",
       "      <td>5.0</td>\n",
       "      <td>0.0</td>\n",
       "      <td>NaN</td>\n",
       "      <td>NaN</td>\n",
       "      <td>NaN</td>\n",
       "      <td>NaN</td>\n",
       "      <td>...</td>\n",
       "      <td>1803.987</td>\n",
       "      <td>NaN</td>\n",
       "      <td>597.029</td>\n",
       "      <td>9.59</td>\n",
       "      <td>NaN</td>\n",
       "      <td>NaN</td>\n",
       "      <td>0.5</td>\n",
       "      <td>64.83</td>\n",
       "      <td>0.511</td>\n",
       "      <td>41128772.0</td>\n",
       "    </tr>\n",
       "    <tr>\n",
       "      <th>2</th>\n",
       "      <td>AFG</td>\n",
       "      <td>Asia</td>\n",
       "      <td>Afghanistan</td>\n",
       "      <td>2020-02-26</td>\n",
       "      <td>5.0</td>\n",
       "      <td>0.0</td>\n",
       "      <td>NaN</td>\n",
       "      <td>NaN</td>\n",
       "      <td>NaN</td>\n",
       "      <td>NaN</td>\n",
       "      <td>...</td>\n",
       "      <td>1803.987</td>\n",
       "      <td>NaN</td>\n",
       "      <td>597.029</td>\n",
       "      <td>9.59</td>\n",
       "      <td>NaN</td>\n",
       "      <td>NaN</td>\n",
       "      <td>0.5</td>\n",
       "      <td>64.83</td>\n",
       "      <td>0.511</td>\n",
       "      <td>41128772.0</td>\n",
       "    </tr>\n",
       "    <tr>\n",
       "      <th>3</th>\n",
       "      <td>AFG</td>\n",
       "      <td>Asia</td>\n",
       "      <td>Afghanistan</td>\n",
       "      <td>2020-02-27</td>\n",
       "      <td>5.0</td>\n",
       "      <td>0.0</td>\n",
       "      <td>NaN</td>\n",
       "      <td>NaN</td>\n",
       "      <td>NaN</td>\n",
       "      <td>NaN</td>\n",
       "      <td>...</td>\n",
       "      <td>1803.987</td>\n",
       "      <td>NaN</td>\n",
       "      <td>597.029</td>\n",
       "      <td>9.59</td>\n",
       "      <td>NaN</td>\n",
       "      <td>NaN</td>\n",
       "      <td>0.5</td>\n",
       "      <td>64.83</td>\n",
       "      <td>0.511</td>\n",
       "      <td>41128772.0</td>\n",
       "    </tr>\n",
       "    <tr>\n",
       "      <th>4</th>\n",
       "      <td>AFG</td>\n",
       "      <td>Asia</td>\n",
       "      <td>Afghanistan</td>\n",
       "      <td>2020-02-28</td>\n",
       "      <td>5.0</td>\n",
       "      <td>0.0</td>\n",
       "      <td>NaN</td>\n",
       "      <td>NaN</td>\n",
       "      <td>NaN</td>\n",
       "      <td>NaN</td>\n",
       "      <td>...</td>\n",
       "      <td>1803.987</td>\n",
       "      <td>NaN</td>\n",
       "      <td>597.029</td>\n",
       "      <td>9.59</td>\n",
       "      <td>NaN</td>\n",
       "      <td>NaN</td>\n",
       "      <td>0.5</td>\n",
       "      <td>64.83</td>\n",
       "      <td>0.511</td>\n",
       "      <td>41128772.0</td>\n",
       "    </tr>\n",
       "    <tr>\n",
       "      <th>...</th>\n",
       "      <td>...</td>\n",
       "      <td>...</td>\n",
       "      <td>...</td>\n",
       "      <td>...</td>\n",
       "      <td>...</td>\n",
       "      <td>...</td>\n",
       "      <td>...</td>\n",
       "      <td>...</td>\n",
       "      <td>...</td>\n",
       "      <td>...</td>\n",
       "      <td>...</td>\n",
       "      <td>...</td>\n",
       "      <td>...</td>\n",
       "      <td>...</td>\n",
       "      <td>...</td>\n",
       "      <td>...</td>\n",
       "      <td>...</td>\n",
       "      <td>...</td>\n",
       "      <td>...</td>\n",
       "      <td>...</td>\n",
       "      <td>...</td>\n",
       "    </tr>\n",
       "    <tr>\n",
       "      <th>250395</th>\n",
       "      <td>ZWE</td>\n",
       "      <td>Africa</td>\n",
       "      <td>Zimbabwe</td>\n",
       "      <td>2023-01-11</td>\n",
       "      <td>259981.0</td>\n",
       "      <td>0.0</td>\n",
       "      <td>0.0</td>\n",
       "      <td>5637.0</td>\n",
       "      <td>0.0</td>\n",
       "      <td>0.0</td>\n",
       "      <td>...</td>\n",
       "      <td>1899.775</td>\n",
       "      <td>21.4</td>\n",
       "      <td>307.846</td>\n",
       "      <td>1.82</td>\n",
       "      <td>1.6</td>\n",
       "      <td>30.7</td>\n",
       "      <td>1.7</td>\n",
       "      <td>61.49</td>\n",
       "      <td>0.571</td>\n",
       "      <td>16320539.0</td>\n",
       "    </tr>\n",
       "    <tr>\n",
       "      <th>250396</th>\n",
       "      <td>ZWE</td>\n",
       "      <td>Africa</td>\n",
       "      <td>Zimbabwe</td>\n",
       "      <td>2023-01-12</td>\n",
       "      <td>259981.0</td>\n",
       "      <td>0.0</td>\n",
       "      <td>0.0</td>\n",
       "      <td>5637.0</td>\n",
       "      <td>0.0</td>\n",
       "      <td>0.0</td>\n",
       "      <td>...</td>\n",
       "      <td>1899.775</td>\n",
       "      <td>21.4</td>\n",
       "      <td>307.846</td>\n",
       "      <td>1.82</td>\n",
       "      <td>1.6</td>\n",
       "      <td>30.7</td>\n",
       "      <td>1.7</td>\n",
       "      <td>61.49</td>\n",
       "      <td>0.571</td>\n",
       "      <td>16320539.0</td>\n",
       "    </tr>\n",
       "    <tr>\n",
       "      <th>250397</th>\n",
       "      <td>ZWE</td>\n",
       "      <td>Africa</td>\n",
       "      <td>Zimbabwe</td>\n",
       "      <td>2023-01-13</td>\n",
       "      <td>259981.0</td>\n",
       "      <td>0.0</td>\n",
       "      <td>0.0</td>\n",
       "      <td>5637.0</td>\n",
       "      <td>0.0</td>\n",
       "      <td>0.0</td>\n",
       "      <td>...</td>\n",
       "      <td>1899.775</td>\n",
       "      <td>21.4</td>\n",
       "      <td>307.846</td>\n",
       "      <td>1.82</td>\n",
       "      <td>1.6</td>\n",
       "      <td>30.7</td>\n",
       "      <td>1.7</td>\n",
       "      <td>61.49</td>\n",
       "      <td>0.571</td>\n",
       "      <td>16320539.0</td>\n",
       "    </tr>\n",
       "    <tr>\n",
       "      <th>250398</th>\n",
       "      <td>ZWE</td>\n",
       "      <td>Africa</td>\n",
       "      <td>Zimbabwe</td>\n",
       "      <td>2023-01-14</td>\n",
       "      <td>259981.0</td>\n",
       "      <td>0.0</td>\n",
       "      <td>0.0</td>\n",
       "      <td>5637.0</td>\n",
       "      <td>0.0</td>\n",
       "      <td>0.0</td>\n",
       "      <td>...</td>\n",
       "      <td>1899.775</td>\n",
       "      <td>21.4</td>\n",
       "      <td>307.846</td>\n",
       "      <td>1.82</td>\n",
       "      <td>1.6</td>\n",
       "      <td>30.7</td>\n",
       "      <td>1.7</td>\n",
       "      <td>61.49</td>\n",
       "      <td>0.571</td>\n",
       "      <td>16320539.0</td>\n",
       "    </tr>\n",
       "    <tr>\n",
       "      <th>250399</th>\n",
       "      <td>ZWE</td>\n",
       "      <td>Africa</td>\n",
       "      <td>Zimbabwe</td>\n",
       "      <td>2023-01-15</td>\n",
       "      <td>259981.0</td>\n",
       "      <td>0.0</td>\n",
       "      <td>0.0</td>\n",
       "      <td>5637.0</td>\n",
       "      <td>0.0</td>\n",
       "      <td>0.0</td>\n",
       "      <td>...</td>\n",
       "      <td>1899.775</td>\n",
       "      <td>21.4</td>\n",
       "      <td>307.846</td>\n",
       "      <td>1.82</td>\n",
       "      <td>1.6</td>\n",
       "      <td>30.7</td>\n",
       "      <td>1.7</td>\n",
       "      <td>61.49</td>\n",
       "      <td>0.571</td>\n",
       "      <td>16320539.0</td>\n",
       "    </tr>\n",
       "  </tbody>\n",
       "</table>\n",
       "<p>250400 rows × 36 columns</p>\n",
       "</div>"
      ],
      "text/plain": [
       "       iso_code continent     location        date  total_cases  new_cases  \\\n",
       "0           AFG      Asia  Afghanistan  2020-02-24          5.0        5.0   \n",
       "1           AFG      Asia  Afghanistan  2020-02-25          5.0        0.0   \n",
       "2           AFG      Asia  Afghanistan  2020-02-26          5.0        0.0   \n",
       "3           AFG      Asia  Afghanistan  2020-02-27          5.0        0.0   \n",
       "4           AFG      Asia  Afghanistan  2020-02-28          5.0        0.0   \n",
       "...         ...       ...          ...         ...          ...        ...   \n",
       "250395      ZWE    Africa     Zimbabwe  2023-01-11     259981.0        0.0   \n",
       "250396      ZWE    Africa     Zimbabwe  2023-01-12     259981.0        0.0   \n",
       "250397      ZWE    Africa     Zimbabwe  2023-01-13     259981.0        0.0   \n",
       "250398      ZWE    Africa     Zimbabwe  2023-01-14     259981.0        0.0   \n",
       "250399      ZWE    Africa     Zimbabwe  2023-01-15     259981.0        0.0   \n",
       "\n",
       "        new_cases_smoothed  total_deaths  new_deaths  new_deaths_smoothed  \\\n",
       "0                      NaN           NaN         NaN                  NaN   \n",
       "1                      NaN           NaN         NaN                  NaN   \n",
       "2                      NaN           NaN         NaN                  NaN   \n",
       "3                      NaN           NaN         NaN                  NaN   \n",
       "4                      NaN           NaN         NaN                  NaN   \n",
       "...                    ...           ...         ...                  ...   \n",
       "250395                 0.0        5637.0         0.0                  0.0   \n",
       "250396                 0.0        5637.0         0.0                  0.0   \n",
       "250397                 0.0        5637.0         0.0                  0.0   \n",
       "250398                 0.0        5637.0         0.0                  0.0   \n",
       "250399                 0.0        5637.0         0.0                  0.0   \n",
       "\n",
       "        ...  gdp_per_capita  extreme_poverty  cardiovasc_death_rate  \\\n",
       "0       ...        1803.987              NaN                597.029   \n",
       "1       ...        1803.987              NaN                597.029   \n",
       "2       ...        1803.987              NaN                597.029   \n",
       "3       ...        1803.987              NaN                597.029   \n",
       "4       ...        1803.987              NaN                597.029   \n",
       "...     ...             ...              ...                    ...   \n",
       "250395  ...        1899.775             21.4                307.846   \n",
       "250396  ...        1899.775             21.4                307.846   \n",
       "250397  ...        1899.775             21.4                307.846   \n",
       "250398  ...        1899.775             21.4                307.846   \n",
       "250399  ...        1899.775             21.4                307.846   \n",
       "\n",
       "        diabetes_prevalence  female_smokers  male_smokers  \\\n",
       "0                      9.59             NaN           NaN   \n",
       "1                      9.59             NaN           NaN   \n",
       "2                      9.59             NaN           NaN   \n",
       "3                      9.59             NaN           NaN   \n",
       "4                      9.59             NaN           NaN   \n",
       "...                     ...             ...           ...   \n",
       "250395                 1.82             1.6          30.7   \n",
       "250396                 1.82             1.6          30.7   \n",
       "250397                 1.82             1.6          30.7   \n",
       "250398                 1.82             1.6          30.7   \n",
       "250399                 1.82             1.6          30.7   \n",
       "\n",
       "        hospital_beds_per_thousand  life_expectancy  human_development_index  \\\n",
       "0                              0.5            64.83                    0.511   \n",
       "1                              0.5            64.83                    0.511   \n",
       "2                              0.5            64.83                    0.511   \n",
       "3                              0.5            64.83                    0.511   \n",
       "4                              0.5            64.83                    0.511   \n",
       "...                            ...              ...                      ...   \n",
       "250395                         1.7            61.49                    0.571   \n",
       "250396                         1.7            61.49                    0.571   \n",
       "250397                         1.7            61.49                    0.571   \n",
       "250398                         1.7            61.49                    0.571   \n",
       "250399                         1.7            61.49                    0.571   \n",
       "\n",
       "        population  \n",
       "0       41128772.0  \n",
       "1       41128772.0  \n",
       "2       41128772.0  \n",
       "3       41128772.0  \n",
       "4       41128772.0  \n",
       "...            ...  \n",
       "250395  16320539.0  \n",
       "250396  16320539.0  \n",
       "250397  16320539.0  \n",
       "250398  16320539.0  \n",
       "250399  16320539.0  \n",
       "\n",
       "[250400 rows x 36 columns]"
      ]
     },
     "execution_count": 22,
     "metadata": {},
     "output_type": "execute_result"
    }
   ],
   "source": [
    "df_reduced"
   ]
  },
  {
   "cell_type": "code",
   "execution_count": 23,
   "metadata": {
    "ExecuteTime": {
     "end_time": "2020-09-21T07:54:11.173339Z",
     "start_time": "2020-09-21T07:54:11.164886Z"
    }
   },
   "outputs": [],
   "source": [
    "df = df_reduced"
   ]
  },
  {
   "cell_type": "code",
   "execution_count": 17,
   "metadata": {
    "ExecuteTime": {
     "end_time": "2020-09-21T07:54:11.203907Z",
     "start_time": "2020-09-21T07:54:11.177765Z"
    }
   },
   "outputs": [
    {
     "name": "stdout",
     "output_type": "stream",
     "text": [
      "<class 'pandas.core.frame.DataFrame'>\n",
      "RangeIndex: 44996 entries, 0 to 44995\n",
      "Data columns (total 31 columns):\n",
      " #   Column                           Non-Null Count  Dtype  \n",
      "---  ------                           --------------  -----  \n",
      " 0   iso_code                         44731 non-null  object \n",
      " 1   continent                        44466 non-null  object \n",
      " 2   location                         44996 non-null  object \n",
      " 3   date                             44996 non-null  object \n",
      " 4   total_cases                      44393 non-null  float64\n",
      " 5   new_cases                        44192 non-null  float64\n",
      " 6   new_cases_smoothed               43410 non-null  float64\n",
      " 7   total_deaths                     44393 non-null  float64\n",
      " 8   new_deaths                       44192 non-null  float64\n",
      " 9   new_deaths_smoothed              43410 non-null  float64\n",
      " 10  total_cases_per_million          44128 non-null  float64\n",
      " 11  new_cases_per_million            44128 non-null  float64\n",
      " 12  new_cases_smoothed_per_million   43345 non-null  float64\n",
      " 13  total_deaths_per_million         44128 non-null  float64\n",
      " 14  new_deaths_per_million           44128 non-null  float64\n",
      " 15  new_deaths_smoothed_per_million  43345 non-null  float64\n",
      " 16  stringency_index                 37080 non-null  float64\n",
      " 17  population                       44731 non-null  float64\n",
      " 18  population_density               42701 non-null  float64\n",
      " 19  median_age                       40138 non-null  float64\n",
      " 20  aged_65_older                    39543 non-null  float64\n",
      " 21  aged_70_older                    39930 non-null  float64\n",
      " 22  gdp_per_capita                   39625 non-null  float64\n",
      " 23  extreme_poverty                  26444 non-null  float64\n",
      " 24  cardiovasc_death_rate            40153 non-null  float64\n",
      " 25  diabetes_prevalence              41559 non-null  float64\n",
      " 26  female_smokers                   31499 non-null  float64\n",
      " 27  male_smokers                     31102 non-null  float64\n",
      " 28  hospital_beds_per_thousand       36304 non-null  float64\n",
      " 29  life_expectancy                  44170 non-null  float64\n",
      " 30  human_development_index          38737 non-null  float64\n",
      "dtypes: float64(27), object(4)\n",
      "memory usage: 10.6+ MB\n"
     ]
    }
   ],
   "source": [
    "df.info()"
   ]
  },
  {
   "cell_type": "code",
   "execution_count": 24,
   "metadata": {
    "ExecuteTime": {
     "end_time": "2020-09-21T07:54:11.223283Z",
     "start_time": "2020-09-21T07:54:11.206188Z"
    }
   },
   "outputs": [],
   "source": [
    "missing_iso_code = df[df.iso_code.isna()]\n",
    "df = df.drop(index=missing_iso_code.index)"
   ]
  },
  {
   "cell_type": "code",
   "execution_count": 25,
   "metadata": {
    "ExecuteTime": {
     "end_time": "2020-09-21T07:54:11.252239Z",
     "start_time": "2020-09-21T07:54:11.226035Z"
    }
   },
   "outputs": [],
   "source": [
    "missing_continent = df[df.continent.isna()]\n",
    "df = df.drop(index=missing_continent.index)"
   ]
  },
  {
   "cell_type": "code",
   "execution_count": 26,
   "metadata": {
    "ExecuteTime": {
     "end_time": "2020-09-21T07:54:11.419201Z",
     "start_time": "2020-09-21T07:54:11.254683Z"
    }
   },
   "outputs": [
    {
     "data": {
      "text/plain": [
       "('iso_code', 0)"
      ]
     },
     "execution_count": 26,
     "metadata": {},
     "output_type": "execute_result"
    },
    {
     "data": {
      "text/plain": [
       "('continent', 0)"
      ]
     },
     "execution_count": 26,
     "metadata": {},
     "output_type": "execute_result"
    },
    {
     "data": {
      "text/plain": [
       "('location', 0)"
      ]
     },
     "execution_count": 26,
     "metadata": {},
     "output_type": "execute_result"
    },
    {
     "data": {
      "text/plain": [
       "('date', 0)"
      ]
     },
     "execution_count": 26,
     "metadata": {},
     "output_type": "execute_result"
    },
    {
     "data": {
      "text/plain": [
       "('total_cases', 14293)"
      ]
     },
     "execution_count": 26,
     "metadata": {},
     "output_type": "execute_result"
    },
    {
     "data": {
      "text/plain": [
       "('new_cases', 14649)"
      ]
     },
     "execution_count": 26,
     "metadata": {},
     "output_type": "execute_result"
    },
    {
     "data": {
      "text/plain": [
       "('new_cases_smoothed', 15788)"
      ]
     },
     "execution_count": 26,
     "metadata": {},
     "output_type": "execute_result"
    },
    {
     "data": {
      "text/plain": [
       "('total_deaths', 33641)"
      ]
     },
     "execution_count": 26,
     "metadata": {},
     "output_type": "execute_result"
    },
    {
     "data": {
      "text/plain": [
       "('new_deaths', 33932)"
      ]
     },
     "execution_count": 26,
     "metadata": {},
     "output_type": "execute_result"
    },
    {
     "data": {
      "text/plain": [
       "('new_deaths_smoothed', 35053)"
      ]
     },
     "execution_count": 26,
     "metadata": {},
     "output_type": "execute_result"
    },
    {
     "data": {
      "text/plain": [
       "('total_cases_per_million', 14293)"
      ]
     },
     "execution_count": 26,
     "metadata": {},
     "output_type": "execute_result"
    },
    {
     "data": {
      "text/plain": [
       "('new_cases_per_million', 14649)"
      ]
     },
     "execution_count": 26,
     "metadata": {},
     "output_type": "execute_result"
    },
    {
     "data": {
      "text/plain": [
       "('new_cases_smoothed_per_million', 15788)"
      ]
     },
     "execution_count": 26,
     "metadata": {},
     "output_type": "execute_result"
    },
    {
     "data": {
      "text/plain": [
       "('total_deaths_per_million', 33641)"
      ]
     },
     "execution_count": 26,
     "metadata": {},
     "output_type": "execute_result"
    },
    {
     "data": {
      "text/plain": [
       "('new_deaths_per_million', 33932)"
      ]
     },
     "execution_count": 26,
     "metadata": {},
     "output_type": "execute_result"
    },
    {
     "data": {
      "text/plain": [
       "('new_deaths_smoothed_per_million', 35053)"
      ]
     },
     "execution_count": 26,
     "metadata": {},
     "output_type": "execute_result"
    },
    {
     "data": {
      "text/plain": [
       "('reproduction_rate', 52589)"
      ]
     },
     "execution_count": 26,
     "metadata": {},
     "output_type": "execute_result"
    },
    {
     "data": {
      "text/plain": [
       "('new_vaccinations_smoothed', 96077)"
      ]
     },
     "execution_count": 26,
     "metadata": {},
     "output_type": "execute_result"
    },
    {
     "data": {
      "text/plain": [
       "('new_vaccinations_smoothed_per_million', 96077)"
      ]
     },
     "execution_count": 26,
     "metadata": {},
     "output_type": "execute_result"
    },
    {
     "data": {
      "text/plain": [
       "('new_people_vaccinated_smoothed', 96332)"
      ]
     },
     "execution_count": 26,
     "metadata": {},
     "output_type": "execute_result"
    },
    {
     "data": {
      "text/plain": [
       "('new_people_vaccinated_smoothed_per_hundred', 96332)"
      ]
     },
     "execution_count": 26,
     "metadata": {},
     "output_type": "execute_result"
    },
    {
     "data": {
      "text/plain": [
       "('stringency_index', 52369)"
      ]
     },
     "execution_count": 26,
     "metadata": {},
     "output_type": "execute_result"
    },
    {
     "data": {
      "text/plain": [
       "('population_density', 19271)"
      ]
     },
     "execution_count": 26,
     "metadata": {},
     "output_type": "execute_result"
    },
    {
     "data": {
      "text/plain": [
       "('median_age', 35639)"
      ]
     },
     "execution_count": 26,
     "metadata": {},
     "output_type": "execute_result"
    },
    {
     "data": {
      "text/plain": [
       "('aged_65_older', 37766)"
      ]
     },
     "execution_count": 26,
     "metadata": {},
     "output_type": "execute_result"
    },
    {
     "data": {
      "text/plain": [
       "('aged_70_older', 36694)"
      ]
     },
     "execution_count": 26,
     "metadata": {},
     "output_type": "execute_result"
    },
    {
     "data": {
      "text/plain": [
       "('gdp_per_capita', 36037)"
      ]
     },
     "execution_count": 26,
     "metadata": {},
     "output_type": "execute_result"
    },
    {
     "data": {
      "text/plain": [
       "('extreme_poverty', 106274)"
      ]
     },
     "execution_count": 26,
     "metadata": {},
     "output_type": "execute_result"
    },
    {
     "data": {
      "text/plain": [
       "('cardiovasc_death_rate', 36226)"
      ]
     },
     "execution_count": 26,
     "metadata": {},
     "output_type": "execute_result"
    },
    {
     "data": {
      "text/plain": [
       "('diabetes_prevalence', 25692)"
      ]
     },
     "execution_count": 26,
     "metadata": {},
     "output_type": "execute_result"
    },
    {
     "data": {
      "text/plain": [
       "('female_smokers', 84889)"
      ]
     },
     "execution_count": 26,
     "metadata": {},
     "output_type": "execute_result"
    },
    {
     "data": {
      "text/plain": [
       "('male_smokers', 86976)"
      ]
     },
     "execution_count": 26,
     "metadata": {},
     "output_type": "execute_result"
    },
    {
     "data": {
      "text/plain": [
       "('hospital_beds_per_thousand', 58080)"
      ]
     },
     "execution_count": 26,
     "metadata": {},
     "output_type": "execute_result"
    },
    {
     "data": {
      "text/plain": [
       "('life_expectancy', 7707)"
      ]
     },
     "execution_count": 26,
     "metadata": {},
     "output_type": "execute_result"
    },
    {
     "data": {
      "text/plain": [
       "('human_development_index', 40824)"
      ]
     },
     "execution_count": 26,
     "metadata": {},
     "output_type": "execute_result"
    },
    {
     "data": {
      "text/plain": [
       "('population', 0)"
      ]
     },
     "execution_count": 26,
     "metadata": {},
     "output_type": "execute_result"
    }
   ],
   "source": [
    "for col in df.columns: \n",
    "    col, df[col].isna().sum()"
   ]
  },
  {
   "cell_type": "markdown",
   "metadata": {},
   "source": [
    "Now we have removed the rows and columns that contained too many Nans."
   ]
  },
  {
   "cell_type": "markdown",
   "metadata": {},
   "source": [
    "# Preprocess for ML\n",
    "\n",
    "Now we need to encode the nominal variables and impute nans of the numerical variables."
   ]
  },
  {
   "cell_type": "code",
   "execution_count": 35,
   "metadata": {
    "ExecuteTime": {
     "end_time": "2020-09-21T07:54:11.985727Z",
     "start_time": "2020-09-21T07:54:11.422629Z"
    }
   },
   "outputs": [],
   "source": [
    "from sklearn.preprocessing import LabelEncoder\n",
    "from sklearn.model_selection import train_test_split"
   ]
  },
  {
   "cell_type": "markdown",
   "metadata": {},
   "source": [
    "## Encode categorical"
   ]
  },
  {
   "cell_type": "markdown",
   "metadata": {},
   "source": []
  },
  {
   "cell_type": "code",
   "execution_count": 36,
   "metadata": {
    "ExecuteTime": {
     "end_time": "2020-09-21T07:55:48.649333Z",
     "start_time": "2020-09-21T07:55:48.639773Z"
    }
   },
   "outputs": [
    {
     "data": {
      "text/plain": [
       "['iso_code', 'continent', 'location', 'date']"
      ]
     },
     "execution_count": 36,
     "metadata": {},
     "output_type": "execute_result"
    }
   ],
   "source": [
    "nominal = df.select_dtypes(include=['object']).copy()\n",
    "nominal_cols = nominal.columns.tolist()\n",
    "nominal_cols"
   ]
  },
  {
   "cell_type": "code",
   "execution_count": 37,
   "metadata": {
    "ExecuteTime": {
     "end_time": "2020-09-21T07:55:48.711892Z",
     "start_time": "2020-09-21T07:55:48.652207Z"
    }
   },
   "outputs": [
    {
     "data": {
      "text/plain": [
       "'iso_code'"
      ]
     },
     "execution_count": 37,
     "metadata": {},
     "output_type": "execute_result"
    },
    {
     "data": {
      "text/plain": [
       "'continent'"
      ]
     },
     "execution_count": 37,
     "metadata": {},
     "output_type": "execute_result"
    },
    {
     "data": {
      "text/plain": [
       "'location'"
      ]
     },
     "execution_count": 37,
     "metadata": {},
     "output_type": "execute_result"
    },
    {
     "data": {
      "text/plain": [
       "'date'"
      ]
     },
     "execution_count": 37,
     "metadata": {},
     "output_type": "execute_result"
    }
   ],
   "source": [
    "encoder = LabelEncoder()\n",
    "for col in nominal_cols:\n",
    "    col\n",
    "    if df[col].isna().sum() > 0:\n",
    "        df[col].fillna('MISSING', inplace=True)\n",
    "    df[col] = encoder.fit_transform(df[col])"
   ]
  },
  {
   "cell_type": "code",
   "execution_count": 38,
   "metadata": {
    "ExecuteTime": {
     "end_time": "2020-09-21T07:55:48.725788Z",
     "start_time": "2020-09-21T07:55:48.714647Z"
    }
   },
   "outputs": [
    {
     "data": {
      "text/plain": [
       "array([  1,   4,  56,   5,   2,   3,   9,   7,   8,   0,  10,  11,  12,\n",
       "        21,  20,  18,  28,  23,  14,  24,  15,  25,  30,  26,  16,  22,\n",
       "        31,  27, 225,  29,  19,  17,  13, 107,  38,  33,  44,  48,  32,\n",
       "       203,  35,  36,  42,  43,  40,  41,  45,  37,  88,  46,  47,  49,\n",
       "        50,  39,  54,  52,  53,  55,  57,  58, 187, 157,  79,  59,  62,\n",
       "       198,  63,  68,  66,  65,  64,  67, 175,  70,  77,  72,  51,  74,\n",
       "        75,  80,  82,  81,  84,  83,  73,  76,  78,  85,  89,  87,  86,\n",
       "        90,  97,  93,  91,  95,  96,  94,  92,  98,  99, 100, 103, 101,\n",
       "       102, 104, 105, 108, 158, 111, 106, 112, 122, 113, 119, 114, 115,\n",
       "       117, 120, 121, 123, 127, 142, 143, 128, 132, 133, 130, 139, 141,\n",
       "       129,  69, 126, 125, 136, 135, 140, 124, 138, 134, 144, 153, 152,\n",
       "       150, 145, 154, 148, 146, 147, 149, 171, 131, 156, 159, 137, 151,\n",
       "       155, 162, 167, 174, 163, 168, 173, 165, 166, 164, 169, 172, 170,\n",
       "       176, 177, 178, 179, 184, 109, 116, 190, 223, 230, 188, 193, 180,\n",
       "       160, 182, 191, 200, 186, 183, 199, 195, 196, 185, 189, 232, 110,\n",
       "       192,  61, 118, 181, 194, 197,  34, 201, 215, 206, 216, 205, 209,\n",
       "       204, 207, 210, 211, 212, 213, 208, 202, 214, 217, 218,   6,  71,\n",
       "       220, 226, 219, 221, 228, 222, 224, 227, 161, 229,  60, 231, 233,\n",
       "       234])"
      ]
     },
     "execution_count": 38,
     "metadata": {},
     "output_type": "execute_result"
    },
    {
     "data": {
      "text/plain": [
       "array([1, 2, 0, 3, 5, 4])"
      ]
     },
     "execution_count": 38,
     "metadata": {},
     "output_type": "execute_result"
    },
    {
     "data": {
      "text/plain": [
       "array([  0,   1,   2,   3,   4,   5,   6,   7,   8,   9,  10,  11,  12,\n",
       "        13,  14,  15,  16,  17,  18,  19,  20,  21,  22,  23,  24,  25,\n",
       "        26,  27,  28,  29,  30,  31,  32,  33,  34,  35,  36,  37,  38,\n",
       "        39,  40,  41,  42,  43,  44,  45,  46,  47,  48,  49,  50,  51,\n",
       "        52,  53,  54,  55,  56,  57,  58,  59,  60,  61,  62,  63,  64,\n",
       "        65,  66,  67,  68,  69,  70,  71,  72,  73,  74,  75,  76,  77,\n",
       "        78,  79,  80,  81,  82,  83,  84,  85,  86,  87,  88,  89,  90,\n",
       "        91,  92,  93,  94,  95,  96,  97,  98,  99, 100, 101, 102, 103,\n",
       "       104, 105, 106, 107, 108, 109, 110, 111, 112, 113, 114, 115, 116,\n",
       "       117, 118, 119, 120, 121, 122, 123, 124, 125, 126, 127, 128, 129,\n",
       "       130, 131, 132, 133, 134, 135, 136, 137, 138, 139, 140, 141, 142,\n",
       "       143, 144, 145, 146, 147, 148, 149, 150, 151, 152, 153, 154, 155,\n",
       "       156, 157, 158, 159, 160, 161, 162, 163, 164, 165, 166, 167, 168,\n",
       "       169, 170, 171, 172, 173, 174, 175, 176, 177, 178, 179, 180, 181,\n",
       "       182, 183, 184, 185, 186, 187, 188, 189, 190, 191, 192, 193, 194,\n",
       "       195, 196, 197, 198, 199, 200, 201, 202, 203, 204, 205, 206, 207,\n",
       "       208, 209, 210, 211, 212, 213, 214, 215, 216, 217, 218, 219, 220,\n",
       "       221, 222, 223, 224, 225, 226, 227, 228, 229, 230, 231, 232, 233,\n",
       "       234])"
      ]
     },
     "execution_count": 38,
     "metadata": {},
     "output_type": "execute_result"
    },
    {
     "data": {
      "text/plain": [
       "array([  54,   55,   56, ...,   52,   53, 1111])"
      ]
     },
     "execution_count": 38,
     "metadata": {},
     "output_type": "execute_result"
    }
   ],
   "source": [
    "for col in nominal_cols:\n",
    "    df[col].unique()"
   ]
  },
  {
   "cell_type": "markdown",
   "metadata": {},
   "source": [
    "## Impute missing values of numerical"
   ]
  },
  {
   "cell_type": "code",
   "execution_count": 39,
   "metadata": {
    "ExecuteTime": {
     "end_time": "2020-09-21T07:55:48.769100Z",
     "start_time": "2020-09-21T07:55:48.728145Z"
    }
   },
   "outputs": [
    {
     "data": {
      "text/html": [
       "<div>\n",
       "<style scoped>\n",
       "    .dataframe tbody tr th:only-of-type {\n",
       "        vertical-align: middle;\n",
       "    }\n",
       "\n",
       "    .dataframe tbody tr th {\n",
       "        vertical-align: top;\n",
       "    }\n",
       "\n",
       "    .dataframe thead th {\n",
       "        text-align: right;\n",
       "    }\n",
       "</style>\n",
       "<table border=\"1\" class=\"dataframe\">\n",
       "  <thead>\n",
       "    <tr style=\"text-align: right;\">\n",
       "      <th></th>\n",
       "      <th>total_cases</th>\n",
       "      <th>new_cases</th>\n",
       "      <th>new_cases_smoothed</th>\n",
       "      <th>total_deaths</th>\n",
       "      <th>new_deaths</th>\n",
       "      <th>new_deaths_smoothed</th>\n",
       "      <th>total_cases_per_million</th>\n",
       "      <th>new_cases_per_million</th>\n",
       "      <th>new_cases_smoothed_per_million</th>\n",
       "      <th>total_deaths_per_million</th>\n",
       "      <th>...</th>\n",
       "      <th>gdp_per_capita</th>\n",
       "      <th>extreme_poverty</th>\n",
       "      <th>cardiovasc_death_rate</th>\n",
       "      <th>diabetes_prevalence</th>\n",
       "      <th>female_smokers</th>\n",
       "      <th>male_smokers</th>\n",
       "      <th>hospital_beds_per_thousand</th>\n",
       "      <th>life_expectancy</th>\n",
       "      <th>human_development_index</th>\n",
       "      <th>population</th>\n",
       "    </tr>\n",
       "  </thead>\n",
       "  <tbody>\n",
       "    <tr>\n",
       "      <th>0</th>\n",
       "      <td>5.0</td>\n",
       "      <td>5.0</td>\n",
       "      <td>NaN</td>\n",
       "      <td>NaN</td>\n",
       "      <td>NaN</td>\n",
       "      <td>NaN</td>\n",
       "      <td>0.122</td>\n",
       "      <td>0.122</td>\n",
       "      <td>NaN</td>\n",
       "      <td>NaN</td>\n",
       "      <td>...</td>\n",
       "      <td>1803.987</td>\n",
       "      <td>NaN</td>\n",
       "      <td>597.029</td>\n",
       "      <td>9.59</td>\n",
       "      <td>NaN</td>\n",
       "      <td>NaN</td>\n",
       "      <td>0.5</td>\n",
       "      <td>64.83</td>\n",
       "      <td>0.511</td>\n",
       "      <td>41128772.0</td>\n",
       "    </tr>\n",
       "    <tr>\n",
       "      <th>1</th>\n",
       "      <td>5.0</td>\n",
       "      <td>0.0</td>\n",
       "      <td>NaN</td>\n",
       "      <td>NaN</td>\n",
       "      <td>NaN</td>\n",
       "      <td>NaN</td>\n",
       "      <td>0.122</td>\n",
       "      <td>0.000</td>\n",
       "      <td>NaN</td>\n",
       "      <td>NaN</td>\n",
       "      <td>...</td>\n",
       "      <td>1803.987</td>\n",
       "      <td>NaN</td>\n",
       "      <td>597.029</td>\n",
       "      <td>9.59</td>\n",
       "      <td>NaN</td>\n",
       "      <td>NaN</td>\n",
       "      <td>0.5</td>\n",
       "      <td>64.83</td>\n",
       "      <td>0.511</td>\n",
       "      <td>41128772.0</td>\n",
       "    </tr>\n",
       "    <tr>\n",
       "      <th>2</th>\n",
       "      <td>5.0</td>\n",
       "      <td>0.0</td>\n",
       "      <td>NaN</td>\n",
       "      <td>NaN</td>\n",
       "      <td>NaN</td>\n",
       "      <td>NaN</td>\n",
       "      <td>0.122</td>\n",
       "      <td>0.000</td>\n",
       "      <td>NaN</td>\n",
       "      <td>NaN</td>\n",
       "      <td>...</td>\n",
       "      <td>1803.987</td>\n",
       "      <td>NaN</td>\n",
       "      <td>597.029</td>\n",
       "      <td>9.59</td>\n",
       "      <td>NaN</td>\n",
       "      <td>NaN</td>\n",
       "      <td>0.5</td>\n",
       "      <td>64.83</td>\n",
       "      <td>0.511</td>\n",
       "      <td>41128772.0</td>\n",
       "    </tr>\n",
       "    <tr>\n",
       "      <th>3</th>\n",
       "      <td>5.0</td>\n",
       "      <td>0.0</td>\n",
       "      <td>NaN</td>\n",
       "      <td>NaN</td>\n",
       "      <td>NaN</td>\n",
       "      <td>NaN</td>\n",
       "      <td>0.122</td>\n",
       "      <td>0.000</td>\n",
       "      <td>NaN</td>\n",
       "      <td>NaN</td>\n",
       "      <td>...</td>\n",
       "      <td>1803.987</td>\n",
       "      <td>NaN</td>\n",
       "      <td>597.029</td>\n",
       "      <td>9.59</td>\n",
       "      <td>NaN</td>\n",
       "      <td>NaN</td>\n",
       "      <td>0.5</td>\n",
       "      <td>64.83</td>\n",
       "      <td>0.511</td>\n",
       "      <td>41128772.0</td>\n",
       "    </tr>\n",
       "    <tr>\n",
       "      <th>4</th>\n",
       "      <td>5.0</td>\n",
       "      <td>0.0</td>\n",
       "      <td>NaN</td>\n",
       "      <td>NaN</td>\n",
       "      <td>NaN</td>\n",
       "      <td>NaN</td>\n",
       "      <td>0.122</td>\n",
       "      <td>0.000</td>\n",
       "      <td>NaN</td>\n",
       "      <td>NaN</td>\n",
       "      <td>...</td>\n",
       "      <td>1803.987</td>\n",
       "      <td>NaN</td>\n",
       "      <td>597.029</td>\n",
       "      <td>9.59</td>\n",
       "      <td>NaN</td>\n",
       "      <td>NaN</td>\n",
       "      <td>0.5</td>\n",
       "      <td>64.83</td>\n",
       "      <td>0.511</td>\n",
       "      <td>41128772.0</td>\n",
       "    </tr>\n",
       "    <tr>\n",
       "      <th>...</th>\n",
       "      <td>...</td>\n",
       "      <td>...</td>\n",
       "      <td>...</td>\n",
       "      <td>...</td>\n",
       "      <td>...</td>\n",
       "      <td>...</td>\n",
       "      <td>...</td>\n",
       "      <td>...</td>\n",
       "      <td>...</td>\n",
       "      <td>...</td>\n",
       "      <td>...</td>\n",
       "      <td>...</td>\n",
       "      <td>...</td>\n",
       "      <td>...</td>\n",
       "      <td>...</td>\n",
       "      <td>...</td>\n",
       "      <td>...</td>\n",
       "      <td>...</td>\n",
       "      <td>...</td>\n",
       "      <td>...</td>\n",
       "      <td>...</td>\n",
       "    </tr>\n",
       "    <tr>\n",
       "      <th>250395</th>\n",
       "      <td>259981.0</td>\n",
       "      <td>0.0</td>\n",
       "      <td>0.0</td>\n",
       "      <td>5637.0</td>\n",
       "      <td>0.0</td>\n",
       "      <td>0.0</td>\n",
       "      <td>15929.682</td>\n",
       "      <td>0.000</td>\n",
       "      <td>0.0</td>\n",
       "      <td>345.393</td>\n",
       "      <td>...</td>\n",
       "      <td>1899.775</td>\n",
       "      <td>21.4</td>\n",
       "      <td>307.846</td>\n",
       "      <td>1.82</td>\n",
       "      <td>1.6</td>\n",
       "      <td>30.7</td>\n",
       "      <td>1.7</td>\n",
       "      <td>61.49</td>\n",
       "      <td>0.571</td>\n",
       "      <td>16320539.0</td>\n",
       "    </tr>\n",
       "    <tr>\n",
       "      <th>250396</th>\n",
       "      <td>259981.0</td>\n",
       "      <td>0.0</td>\n",
       "      <td>0.0</td>\n",
       "      <td>5637.0</td>\n",
       "      <td>0.0</td>\n",
       "      <td>0.0</td>\n",
       "      <td>15929.682</td>\n",
       "      <td>0.000</td>\n",
       "      <td>0.0</td>\n",
       "      <td>345.393</td>\n",
       "      <td>...</td>\n",
       "      <td>1899.775</td>\n",
       "      <td>21.4</td>\n",
       "      <td>307.846</td>\n",
       "      <td>1.82</td>\n",
       "      <td>1.6</td>\n",
       "      <td>30.7</td>\n",
       "      <td>1.7</td>\n",
       "      <td>61.49</td>\n",
       "      <td>0.571</td>\n",
       "      <td>16320539.0</td>\n",
       "    </tr>\n",
       "    <tr>\n",
       "      <th>250397</th>\n",
       "      <td>259981.0</td>\n",
       "      <td>0.0</td>\n",
       "      <td>0.0</td>\n",
       "      <td>5637.0</td>\n",
       "      <td>0.0</td>\n",
       "      <td>0.0</td>\n",
       "      <td>15929.682</td>\n",
       "      <td>0.000</td>\n",
       "      <td>0.0</td>\n",
       "      <td>345.393</td>\n",
       "      <td>...</td>\n",
       "      <td>1899.775</td>\n",
       "      <td>21.4</td>\n",
       "      <td>307.846</td>\n",
       "      <td>1.82</td>\n",
       "      <td>1.6</td>\n",
       "      <td>30.7</td>\n",
       "      <td>1.7</td>\n",
       "      <td>61.49</td>\n",
       "      <td>0.571</td>\n",
       "      <td>16320539.0</td>\n",
       "    </tr>\n",
       "    <tr>\n",
       "      <th>250398</th>\n",
       "      <td>259981.0</td>\n",
       "      <td>0.0</td>\n",
       "      <td>0.0</td>\n",
       "      <td>5637.0</td>\n",
       "      <td>0.0</td>\n",
       "      <td>0.0</td>\n",
       "      <td>15929.682</td>\n",
       "      <td>0.000</td>\n",
       "      <td>0.0</td>\n",
       "      <td>345.393</td>\n",
       "      <td>...</td>\n",
       "      <td>1899.775</td>\n",
       "      <td>21.4</td>\n",
       "      <td>307.846</td>\n",
       "      <td>1.82</td>\n",
       "      <td>1.6</td>\n",
       "      <td>30.7</td>\n",
       "      <td>1.7</td>\n",
       "      <td>61.49</td>\n",
       "      <td>0.571</td>\n",
       "      <td>16320539.0</td>\n",
       "    </tr>\n",
       "    <tr>\n",
       "      <th>250399</th>\n",
       "      <td>259981.0</td>\n",
       "      <td>0.0</td>\n",
       "      <td>0.0</td>\n",
       "      <td>5637.0</td>\n",
       "      <td>0.0</td>\n",
       "      <td>0.0</td>\n",
       "      <td>15929.682</td>\n",
       "      <td>0.000</td>\n",
       "      <td>0.0</td>\n",
       "      <td>345.393</td>\n",
       "      <td>...</td>\n",
       "      <td>1899.775</td>\n",
       "      <td>21.4</td>\n",
       "      <td>307.846</td>\n",
       "      <td>1.82</td>\n",
       "      <td>1.6</td>\n",
       "      <td>30.7</td>\n",
       "      <td>1.7</td>\n",
       "      <td>61.49</td>\n",
       "      <td>0.571</td>\n",
       "      <td>16320539.0</td>\n",
       "    </tr>\n",
       "  </tbody>\n",
       "</table>\n",
       "<p>236330 rows × 32 columns</p>\n",
       "</div>"
      ],
      "text/plain": [
       "        total_cases  new_cases  new_cases_smoothed  total_deaths  new_deaths  \\\n",
       "0               5.0        5.0                 NaN           NaN         NaN   \n",
       "1               5.0        0.0                 NaN           NaN         NaN   \n",
       "2               5.0        0.0                 NaN           NaN         NaN   \n",
       "3               5.0        0.0                 NaN           NaN         NaN   \n",
       "4               5.0        0.0                 NaN           NaN         NaN   \n",
       "...             ...        ...                 ...           ...         ...   \n",
       "250395     259981.0        0.0                 0.0        5637.0         0.0   \n",
       "250396     259981.0        0.0                 0.0        5637.0         0.0   \n",
       "250397     259981.0        0.0                 0.0        5637.0         0.0   \n",
       "250398     259981.0        0.0                 0.0        5637.0         0.0   \n",
       "250399     259981.0        0.0                 0.0        5637.0         0.0   \n",
       "\n",
       "        new_deaths_smoothed  total_cases_per_million  new_cases_per_million  \\\n",
       "0                       NaN                    0.122                  0.122   \n",
       "1                       NaN                    0.122                  0.000   \n",
       "2                       NaN                    0.122                  0.000   \n",
       "3                       NaN                    0.122                  0.000   \n",
       "4                       NaN                    0.122                  0.000   \n",
       "...                     ...                      ...                    ...   \n",
       "250395                  0.0                15929.682                  0.000   \n",
       "250396                  0.0                15929.682                  0.000   \n",
       "250397                  0.0                15929.682                  0.000   \n",
       "250398                  0.0                15929.682                  0.000   \n",
       "250399                  0.0                15929.682                  0.000   \n",
       "\n",
       "        new_cases_smoothed_per_million  total_deaths_per_million  ...  \\\n",
       "0                                  NaN                       NaN  ...   \n",
       "1                                  NaN                       NaN  ...   \n",
       "2                                  NaN                       NaN  ...   \n",
       "3                                  NaN                       NaN  ...   \n",
       "4                                  NaN                       NaN  ...   \n",
       "...                                ...                       ...  ...   \n",
       "250395                             0.0                   345.393  ...   \n",
       "250396                             0.0                   345.393  ...   \n",
       "250397                             0.0                   345.393  ...   \n",
       "250398                             0.0                   345.393  ...   \n",
       "250399                             0.0                   345.393  ...   \n",
       "\n",
       "        gdp_per_capita  extreme_poverty  cardiovasc_death_rate  \\\n",
       "0             1803.987              NaN                597.029   \n",
       "1             1803.987              NaN                597.029   \n",
       "2             1803.987              NaN                597.029   \n",
       "3             1803.987              NaN                597.029   \n",
       "4             1803.987              NaN                597.029   \n",
       "...                ...              ...                    ...   \n",
       "250395        1899.775             21.4                307.846   \n",
       "250396        1899.775             21.4                307.846   \n",
       "250397        1899.775             21.4                307.846   \n",
       "250398        1899.775             21.4                307.846   \n",
       "250399        1899.775             21.4                307.846   \n",
       "\n",
       "        diabetes_prevalence  female_smokers  male_smokers  \\\n",
       "0                      9.59             NaN           NaN   \n",
       "1                      9.59             NaN           NaN   \n",
       "2                      9.59             NaN           NaN   \n",
       "3                      9.59             NaN           NaN   \n",
       "4                      9.59             NaN           NaN   \n",
       "...                     ...             ...           ...   \n",
       "250395                 1.82             1.6          30.7   \n",
       "250396                 1.82             1.6          30.7   \n",
       "250397                 1.82             1.6          30.7   \n",
       "250398                 1.82             1.6          30.7   \n",
       "250399                 1.82             1.6          30.7   \n",
       "\n",
       "        hospital_beds_per_thousand  life_expectancy  human_development_index  \\\n",
       "0                              0.5            64.83                    0.511   \n",
       "1                              0.5            64.83                    0.511   \n",
       "2                              0.5            64.83                    0.511   \n",
       "3                              0.5            64.83                    0.511   \n",
       "4                              0.5            64.83                    0.511   \n",
       "...                            ...              ...                      ...   \n",
       "250395                         1.7            61.49                    0.571   \n",
       "250396                         1.7            61.49                    0.571   \n",
       "250397                         1.7            61.49                    0.571   \n",
       "250398                         1.7            61.49                    0.571   \n",
       "250399                         1.7            61.49                    0.571   \n",
       "\n",
       "        population  \n",
       "0       41128772.0  \n",
       "1       41128772.0  \n",
       "2       41128772.0  \n",
       "3       41128772.0  \n",
       "4       41128772.0  \n",
       "...            ...  \n",
       "250395  16320539.0  \n",
       "250396  16320539.0  \n",
       "250397  16320539.0  \n",
       "250398  16320539.0  \n",
       "250399  16320539.0  \n",
       "\n",
       "[236330 rows x 32 columns]"
      ]
     },
     "execution_count": 39,
     "metadata": {},
     "output_type": "execute_result"
    }
   ],
   "source": [
    "numerical = df.select_dtypes(include=['float64']).copy()\n",
    "numerical"
   ]
  },
  {
   "cell_type": "code",
   "execution_count": 40,
   "metadata": {
    "ExecuteTime": {
     "end_time": "2020-09-21T07:55:48.776354Z",
     "start_time": "2020-09-21T07:55:48.771428Z"
    }
   },
   "outputs": [
    {
     "data": {
      "text/plain": [
       "0              5.0\n",
       "1              5.0\n",
       "2              5.0\n",
       "3              5.0\n",
       "4              5.0\n",
       "            ...   \n",
       "250395    259981.0\n",
       "250396    259981.0\n",
       "250397    259981.0\n",
       "250398    259981.0\n",
       "250399    259981.0\n",
       "Name: total_cases, Length: 236330, dtype: float64"
      ]
     },
     "execution_count": 40,
     "metadata": {},
     "output_type": "execute_result"
    }
   ],
   "source": [
    "df.total_cases"
   ]
  },
  {
   "cell_type": "code",
   "execution_count": 41,
   "metadata": {
    "ExecuteTime": {
     "end_time": "2020-09-21T07:55:48.798540Z",
     "start_time": "2020-09-21T07:55:48.778373Z"
    }
   },
   "outputs": [],
   "source": [
    "for col in numerical:\n",
    "    df[col].fillna((df[col].mean()), inplace=True)"
   ]
  },
  {
   "cell_type": "code",
   "execution_count": 42,
   "metadata": {
    "ExecuteTime": {
     "end_time": "2020-09-21T07:55:48.808680Z",
     "start_time": "2020-09-21T07:55:48.800456Z"
    }
   },
   "outputs": [
    {
     "data": {
      "text/plain": [
       "True"
      ]
     },
     "execution_count": 42,
     "metadata": {},
     "output_type": "execute_result"
    }
   ],
   "source": [
    "df.isna().sum().sum() == 0"
   ]
  },
  {
   "cell_type": "markdown",
   "metadata": {},
   "source": [
    "Now the dataset has no Nans and is completely encoded."
   ]
  },
  {
   "cell_type": "markdown",
   "metadata": {},
   "source": [
    "## Split into train and test set"
   ]
  },
  {
   "cell_type": "code",
   "execution_count": 43,
   "metadata": {
    "ExecuteTime": {
     "end_time": "2020-09-21T07:55:48.832173Z",
     "start_time": "2020-09-21T07:55:48.812526Z"
    }
   },
   "outputs": [],
   "source": [
    "X = df.drop(columns=['new_cases'])\n",
    "y = df.new_cases\n",
    "X_train, X_test, y_train, y_test = train_test_split(X, y, test_size=0.30, random_state=0)"
   ]
  },
  {
   "cell_type": "code",
   "execution_count": 44,
   "metadata": {
    "ExecuteTime": {
     "end_time": "2020-09-21T07:55:48.889220Z",
     "start_time": "2020-09-21T07:55:48.835448Z"
    }
   },
   "outputs": [
    {
     "data": {
      "text/html": [
       "<div>\n",
       "<style scoped>\n",
       "    .dataframe tbody tr th:only-of-type {\n",
       "        vertical-align: middle;\n",
       "    }\n",
       "\n",
       "    .dataframe tbody tr th {\n",
       "        vertical-align: top;\n",
       "    }\n",
       "\n",
       "    .dataframe thead th {\n",
       "        text-align: right;\n",
       "    }\n",
       "</style>\n",
       "<table border=\"1\" class=\"dataframe\">\n",
       "  <thead>\n",
       "    <tr style=\"text-align: right;\">\n",
       "      <th></th>\n",
       "      <th>iso_code</th>\n",
       "      <th>continent</th>\n",
       "      <th>location</th>\n",
       "      <th>date</th>\n",
       "      <th>total_cases</th>\n",
       "      <th>new_cases_smoothed</th>\n",
       "      <th>total_deaths</th>\n",
       "      <th>new_deaths</th>\n",
       "      <th>new_deaths_smoothed</th>\n",
       "      <th>total_cases_per_million</th>\n",
       "      <th>...</th>\n",
       "      <th>gdp_per_capita</th>\n",
       "      <th>extreme_poverty</th>\n",
       "      <th>cardiovasc_death_rate</th>\n",
       "      <th>diabetes_prevalence</th>\n",
       "      <th>female_smokers</th>\n",
       "      <th>male_smokers</th>\n",
       "      <th>hospital_beds_per_thousand</th>\n",
       "      <th>life_expectancy</th>\n",
       "      <th>human_development_index</th>\n",
       "      <th>population</th>\n",
       "    </tr>\n",
       "  </thead>\n",
       "  <tbody>\n",
       "    <tr>\n",
       "      <th>129320</th>\n",
       "      <td>120</td>\n",
       "      <td>2</td>\n",
       "      <td>118</td>\n",
       "      <td>1080</td>\n",
       "      <td>1282732.0</td>\n",
       "      <td>386.143</td>\n",
       "      <td>9452.000000</td>\n",
       "      <td>0.000000</td>\n",
       "      <td>1.571000</td>\n",
       "      <td>466438.162</td>\n",
       "      <td>...</td>\n",
       "      <td>29524.265</td>\n",
       "      <td>0.700000</td>\n",
       "      <td>342.989000</td>\n",
       "      <td>3.67</td>\n",
       "      <td>21.30000</td>\n",
       "      <td>38.000000</td>\n",
       "      <td>6.560000</td>\n",
       "      <td>75.93</td>\n",
       "      <td>0.882</td>\n",
       "      <td>2.750058e+06</td>\n",
       "    </tr>\n",
       "    <tr>\n",
       "      <th>84287</th>\n",
       "      <td>51</td>\n",
       "      <td>2</td>\n",
       "      <td>76</td>\n",
       "      <td>810</td>\n",
       "      <td>18772331.0</td>\n",
       "      <td>219800.286</td>\n",
       "      <td>126929.000000</td>\n",
       "      <td>283.000000</td>\n",
       "      <td>191.286000</td>\n",
       "      <td>225169.330</td>\n",
       "      <td>...</td>\n",
       "      <td>45229.245</td>\n",
       "      <td>13.682884</td>\n",
       "      <td>156.139000</td>\n",
       "      <td>8.31</td>\n",
       "      <td>28.20000</td>\n",
       "      <td>33.100000</td>\n",
       "      <td>8.000000</td>\n",
       "      <td>81.33</td>\n",
       "      <td>0.947</td>\n",
       "      <td>8.336984e+07</td>\n",
       "    </tr>\n",
       "    <tr>\n",
       "      <th>95359</th>\n",
       "      <td>85</td>\n",
       "      <td>5</td>\n",
       "      <td>87</td>\n",
       "      <td>980</td>\n",
       "      <td>71133.0</td>\n",
       "      <td>14.000</td>\n",
       "      <td>1279.000000</td>\n",
       "      <td>0.000000</td>\n",
       "      <td>0.143000</td>\n",
       "      <td>87956.752</td>\n",
       "      <td>...</td>\n",
       "      <td>7435.047</td>\n",
       "      <td>13.682884</td>\n",
       "      <td>373.159000</td>\n",
       "      <td>11.62</td>\n",
       "      <td>10.71614</td>\n",
       "      <td>32.804898</td>\n",
       "      <td>1.600000</td>\n",
       "      <td>69.91</td>\n",
       "      <td>0.682</td>\n",
       "      <td>8.087270e+05</td>\n",
       "    </tr>\n",
       "    <tr>\n",
       "      <th>139480</th>\n",
       "      <td>133</td>\n",
       "      <td>2</td>\n",
       "      <td>126</td>\n",
       "      <td>681</td>\n",
       "      <td>38117.0</td>\n",
       "      <td>43.429</td>\n",
       "      <td>462.000000</td>\n",
       "      <td>0.000000</td>\n",
       "      <td>0.000000</td>\n",
       "      <td>71474.780</td>\n",
       "      <td>...</td>\n",
       "      <td>36513.323</td>\n",
       "      <td>0.200000</td>\n",
       "      <td>168.711000</td>\n",
       "      <td>8.83</td>\n",
       "      <td>20.90000</td>\n",
       "      <td>30.200000</td>\n",
       "      <td>4.485000</td>\n",
       "      <td>82.53</td>\n",
       "      <td>0.895</td>\n",
       "      <td>5.332930e+05</td>\n",
       "    </tr>\n",
       "    <tr>\n",
       "      <th>93681</th>\n",
       "      <td>78</td>\n",
       "      <td>0</td>\n",
       "      <td>86</td>\n",
       "      <td>342</td>\n",
       "      <td>2444.0</td>\n",
       "      <td>0.429</td>\n",
       "      <td>44.000000</td>\n",
       "      <td>0.000000</td>\n",
       "      <td>0.000000</td>\n",
       "      <td>1160.725</td>\n",
       "      <td>...</td>\n",
       "      <td>1548.675</td>\n",
       "      <td>67.100000</td>\n",
       "      <td>382.474000</td>\n",
       "      <td>2.42</td>\n",
       "      <td>10.71614</td>\n",
       "      <td>32.804898</td>\n",
       "      <td>3.092173</td>\n",
       "      <td>58.32</td>\n",
       "      <td>0.480</td>\n",
       "      <td>2.105580e+06</td>\n",
       "    </tr>\n",
       "    <tr>\n",
       "      <th>...</th>\n",
       "      <td>...</td>\n",
       "      <td>...</td>\n",
       "      <td>...</td>\n",
       "      <td>...</td>\n",
       "      <td>...</td>\n",
       "      <td>...</td>\n",
       "      <td>...</td>\n",
       "      <td>...</td>\n",
       "      <td>...</td>\n",
       "      <td>...</td>\n",
       "      <td>...</td>\n",
       "      <td>...</td>\n",
       "      <td>...</td>\n",
       "      <td>...</td>\n",
       "      <td>...</td>\n",
       "      <td>...</td>\n",
       "      <td>...</td>\n",
       "      <td>...</td>\n",
       "      <td>...</td>\n",
       "      <td>...</td>\n",
       "      <td>...</td>\n",
       "    </tr>\n",
       "    <tr>\n",
       "      <th>187792</th>\n",
       "      <td>109</td>\n",
       "      <td>3</td>\n",
       "      <td>174</td>\n",
       "      <td>180</td>\n",
       "      <td>15.0</td>\n",
       "      <td>0.000</td>\n",
       "      <td>20014.173783</td>\n",
       "      <td>33.033434</td>\n",
       "      <td>33.131258</td>\n",
       "      <td>314.591</td>\n",
       "      <td>...</td>\n",
       "      <td>24654.385</td>\n",
       "      <td>13.682884</td>\n",
       "      <td>261.903685</td>\n",
       "      <td>12.84</td>\n",
       "      <td>10.71614</td>\n",
       "      <td>32.804898</td>\n",
       "      <td>2.300000</td>\n",
       "      <td>76.23</td>\n",
       "      <td>0.779</td>\n",
       "      <td>4.768100e+04</td>\n",
       "    </tr>\n",
       "    <tr>\n",
       "      <th>124454</th>\n",
       "      <td>119</td>\n",
       "      <td>0</td>\n",
       "      <td>114</td>\n",
       "      <td>378</td>\n",
       "      <td>6241.0</td>\n",
       "      <td>300.571</td>\n",
       "      <td>87.000000</td>\n",
       "      <td>2.000000</td>\n",
       "      <td>2.000000</td>\n",
       "      <td>2706.622</td>\n",
       "      <td>...</td>\n",
       "      <td>2851.153</td>\n",
       "      <td>59.600000</td>\n",
       "      <td>405.126000</td>\n",
       "      <td>3.94</td>\n",
       "      <td>0.40000</td>\n",
       "      <td>53.900000</td>\n",
       "      <td>3.092173</td>\n",
       "      <td>54.33</td>\n",
       "      <td>0.527</td>\n",
       "      <td>2.305826e+06</td>\n",
       "    </tr>\n",
       "    <tr>\n",
       "      <th>184514</th>\n",
       "      <td>177</td>\n",
       "      <td>2</td>\n",
       "      <td>170</td>\n",
       "      <td>910</td>\n",
       "      <td>2919461.0</td>\n",
       "      <td>567.714</td>\n",
       "      <td>65739.000000</td>\n",
       "      <td>0.000000</td>\n",
       "      <td>1.857000</td>\n",
       "      <td>148503.022</td>\n",
       "      <td>...</td>\n",
       "      <td>23313.199</td>\n",
       "      <td>5.700000</td>\n",
       "      <td>370.946000</td>\n",
       "      <td>9.74</td>\n",
       "      <td>22.90000</td>\n",
       "      <td>37.100000</td>\n",
       "      <td>6.892000</td>\n",
       "      <td>76.05</td>\n",
       "      <td>0.828</td>\n",
       "      <td>1.965927e+07</td>\n",
       "    </tr>\n",
       "    <tr>\n",
       "      <th>45726</th>\n",
       "      <td>36</td>\n",
       "      <td>1</td>\n",
       "      <td>41</td>\n",
       "      <td>629</td>\n",
       "      <td>107010.0</td>\n",
       "      <td>71.000</td>\n",
       "      <td>4851.000000</td>\n",
       "      <td>0.000000</td>\n",
       "      <td>0.143000</td>\n",
       "      <td>75.048</td>\n",
       "      <td>...</td>\n",
       "      <td>15308.712</td>\n",
       "      <td>0.700000</td>\n",
       "      <td>261.899000</td>\n",
       "      <td>9.74</td>\n",
       "      <td>1.90000</td>\n",
       "      <td>48.400000</td>\n",
       "      <td>4.340000</td>\n",
       "      <td>76.91</td>\n",
       "      <td>0.761</td>\n",
       "      <td>1.425887e+09</td>\n",
       "    </tr>\n",
       "    <tr>\n",
       "      <th>211228</th>\n",
       "      <td>61</td>\n",
       "      <td>2</td>\n",
       "      <td>196</td>\n",
       "      <td>471</td>\n",
       "      <td>3407283.0</td>\n",
       "      <td>8538.714</td>\n",
       "      <td>76981.000000</td>\n",
       "      <td>99.000000</td>\n",
       "      <td>93.286000</td>\n",
       "      <td>71643.840</td>\n",
       "      <td>...</td>\n",
       "      <td>34272.360</td>\n",
       "      <td>1.000000</td>\n",
       "      <td>99.403000</td>\n",
       "      <td>7.17</td>\n",
       "      <td>27.40000</td>\n",
       "      <td>31.400000</td>\n",
       "      <td>2.970000</td>\n",
       "      <td>83.56</td>\n",
       "      <td>0.904</td>\n",
       "      <td>4.755863e+07</td>\n",
       "    </tr>\n",
       "  </tbody>\n",
       "</table>\n",
       "<p>165431 rows × 35 columns</p>\n",
       "</div>"
      ],
      "text/plain": [
       "        iso_code  continent  location  date  total_cases  new_cases_smoothed  \\\n",
       "129320       120          2       118  1080    1282732.0             386.143   \n",
       "84287         51          2        76   810   18772331.0          219800.286   \n",
       "95359         85          5        87   980      71133.0              14.000   \n",
       "139480       133          2       126   681      38117.0              43.429   \n",
       "93681         78          0        86   342       2444.0               0.429   \n",
       "...          ...        ...       ...   ...          ...                 ...   \n",
       "187792       109          3       174   180         15.0               0.000   \n",
       "124454       119          0       114   378       6241.0             300.571   \n",
       "184514       177          2       170   910    2919461.0             567.714   \n",
       "45726         36          1        41   629     107010.0              71.000   \n",
       "211228        61          2       196   471    3407283.0            8538.714   \n",
       "\n",
       "         total_deaths  new_deaths  new_deaths_smoothed  \\\n",
       "129320    9452.000000    0.000000             1.571000   \n",
       "84287   126929.000000  283.000000           191.286000   \n",
       "95359     1279.000000    0.000000             0.143000   \n",
       "139480     462.000000    0.000000             0.000000   \n",
       "93681       44.000000    0.000000             0.000000   \n",
       "...               ...         ...                  ...   \n",
       "187792   20014.173783   33.033434            33.131258   \n",
       "124454      87.000000    2.000000             2.000000   \n",
       "184514   65739.000000    0.000000             1.857000   \n",
       "45726     4851.000000    0.000000             0.143000   \n",
       "211228   76981.000000   99.000000            93.286000   \n",
       "\n",
       "        total_cases_per_million  ...  gdp_per_capita  extreme_poverty  \\\n",
       "129320               466438.162  ...       29524.265         0.700000   \n",
       "84287                225169.330  ...       45229.245        13.682884   \n",
       "95359                 87956.752  ...        7435.047        13.682884   \n",
       "139480                71474.780  ...       36513.323         0.200000   \n",
       "93681                  1160.725  ...        1548.675        67.100000   \n",
       "...                         ...  ...             ...              ...   \n",
       "187792                  314.591  ...       24654.385        13.682884   \n",
       "124454                 2706.622  ...        2851.153        59.600000   \n",
       "184514               148503.022  ...       23313.199         5.700000   \n",
       "45726                    75.048  ...       15308.712         0.700000   \n",
       "211228                71643.840  ...       34272.360         1.000000   \n",
       "\n",
       "        cardiovasc_death_rate  diabetes_prevalence  female_smokers  \\\n",
       "129320             342.989000                 3.67        21.30000   \n",
       "84287              156.139000                 8.31        28.20000   \n",
       "95359              373.159000                11.62        10.71614   \n",
       "139480             168.711000                 8.83        20.90000   \n",
       "93681              382.474000                 2.42        10.71614   \n",
       "...                       ...                  ...             ...   \n",
       "187792             261.903685                12.84        10.71614   \n",
       "124454             405.126000                 3.94         0.40000   \n",
       "184514             370.946000                 9.74        22.90000   \n",
       "45726              261.899000                 9.74         1.90000   \n",
       "211228              99.403000                 7.17        27.40000   \n",
       "\n",
       "        male_smokers  hospital_beds_per_thousand  life_expectancy  \\\n",
       "129320     38.000000                    6.560000            75.93   \n",
       "84287      33.100000                    8.000000            81.33   \n",
       "95359      32.804898                    1.600000            69.91   \n",
       "139480     30.200000                    4.485000            82.53   \n",
       "93681      32.804898                    3.092173            58.32   \n",
       "...              ...                         ...              ...   \n",
       "187792     32.804898                    2.300000            76.23   \n",
       "124454     53.900000                    3.092173            54.33   \n",
       "184514     37.100000                    6.892000            76.05   \n",
       "45726      48.400000                    4.340000            76.91   \n",
       "211228     31.400000                    2.970000            83.56   \n",
       "\n",
       "        human_development_index    population  \n",
       "129320                    0.882  2.750058e+06  \n",
       "84287                     0.947  8.336984e+07  \n",
       "95359                     0.682  8.087270e+05  \n",
       "139480                    0.895  5.332930e+05  \n",
       "93681                     0.480  2.105580e+06  \n",
       "...                         ...           ...  \n",
       "187792                    0.779  4.768100e+04  \n",
       "124454                    0.527  2.305826e+06  \n",
       "184514                    0.828  1.965927e+07  \n",
       "45726                     0.761  1.425887e+09  \n",
       "211228                    0.904  4.755863e+07  \n",
       "\n",
       "[165431 rows x 35 columns]"
      ]
     },
     "execution_count": 44,
     "metadata": {},
     "output_type": "execute_result"
    }
   ],
   "source": [
    "X_train"
   ]
  },
  {
   "cell_type": "markdown",
   "metadata": {},
   "source": [
    "# Add ML"
   ]
  },
  {
   "cell_type": "code",
   "execution_count": 45,
   "metadata": {
    "ExecuteTime": {
     "end_time": "2020-09-21T07:55:49.155519Z",
     "start_time": "2020-09-21T07:55:48.892544Z"
    }
   },
   "outputs": [],
   "source": [
    "from sklearn.ensemble import RandomForestRegressor\n",
    "from sklearn.metrics import r2_score \n",
    "from sklearn.model_selection import RandomizedSearchCV\n",
    "from joblib import dump, load"
   ]
  },
  {
   "cell_type": "code",
   "execution_count": 46,
   "metadata": {
    "ExecuteTime": {
     "end_time": "2020-09-22T14:23:49.455201Z",
     "start_time": "2020-09-22T14:23:49.439565Z"
    }
   },
   "outputs": [],
   "source": [
    "rf = RandomForestRegressor(\n",
    "    n_estimators = 100, # 400 \n",
    "    random_state = 0, \n",
    "    max_depth=30)"
   ]
  },
  {
   "cell_type": "code",
   "execution_count": 47,
   "metadata": {
    "ExecuteTime": {
     "end_time": "2020-09-22T14:24:32.555970Z",
     "start_time": "2020-09-22T14:23:49.970968Z"
    }
   },
   "outputs": [
    {
     "data": {
      "text/plain": [
       "RandomForestRegressor(max_depth=30, random_state=0)"
      ]
     },
     "execution_count": 47,
     "metadata": {},
     "output_type": "execute_result"
    }
   ],
   "source": [
    "rf.fit(X_train, y_train)"
   ]
  },
  {
   "cell_type": "code",
   "execution_count": 48,
   "metadata": {
    "ExecuteTime": {
     "end_time": "2020-09-22T14:24:33.083436Z",
     "start_time": "2020-09-22T14:24:32.558571Z"
    }
   },
   "outputs": [],
   "source": [
    "y_pred = rf.predict(X_test)"
   ]
  },
  {
   "cell_type": "code",
   "execution_count": 49,
   "metadata": {
    "ExecuteTime": {
     "end_time": "2020-09-22T14:24:33.107263Z",
     "start_time": "2020-09-22T14:24:33.086702Z"
    }
   },
   "outputs": [
    {
     "name": "stdout",
     "output_type": "stream",
     "text": [
      "94.05%\n"
     ]
    }
   ],
   "source": [
    "print(f'{r2_score(y_test, y_pred):.2%}')"
   ]
  },
  {
   "cell_type": "markdown",
   "metadata": {},
   "source": [
    "## Improve hyperparameters\n",
    "\n",
    "Best params for n_estimators and max_depth are\n",
    "\n",
    "`{'n_estimators': 400, 'max_depth': 30}`"
   ]
  },
  {
   "cell_type": "code",
   "execution_count": 53,
   "metadata": {
    "ExecuteTime": {
     "end_time": "2020-09-22T14:24:33.116533Z",
     "start_time": "2020-09-22T14:24:33.109859Z"
    }
   },
   "outputs": [],
   "source": [
    "random_grid = {'n_estimators': np.arange(200,600,100),\n",
    "#                'max_features': ['auto', 'sqrt'],\n",
    "               'max_depth': np.arange(10,40,10)}\n",
    "#                'min_samples_split': [2, 5],\n",
    "#                'min_samples_leaf': [2,4]}#,\n",
    "#                'bootstrap': [True, False]}"
   ]
  },
  {
   "cell_type": "code",
   "execution_count": 56,
   "metadata": {
    "ExecuteTime": {
     "end_time": "2020-09-22T08:53:18.913223Z",
     "start_time": "2020-09-22T08:53:18.908832Z"
    }
   },
   "outputs": [],
   "source": [
    "rf_random = RandomizedSearchCV(\n",
    "    estimator = rf, \n",
    "    param_distributions = random_grid, \n",
    "    n_iter = 3, cv = 5, verbose=2, random_state=42)"
   ]
  },
  {
   "cell_type": "code",
   "execution_count": 57,
   "metadata": {
    "ExecuteTime": {
     "end_time": "2020-09-22T09:42:27.222348Z",
     "start_time": "2020-09-22T08:53:19.235274Z"
    }
   },
   "outputs": [
    {
     "name": "stdout",
     "output_type": "stream",
     "text": [
      "Fitting 5 folds for each of 3 candidates, totalling 15 fits\n",
      "[CV] END .....................max_depth=30, n_estimators=400; total time=26.5min\n",
      "[CV] END .....................max_depth=30, n_estimators=400; total time=23.0min\n",
      "[CV] END .....................max_depth=30, n_estimators=400; total time=22.5min\n",
      "[CV] END .....................max_depth=30, n_estimators=400; total time=22.3min\n",
      "[CV] END .....................max_depth=30, n_estimators=400; total time=22.5min\n",
      "[CV] END .....................max_depth=30, n_estimators=300; total time=16.8min\n",
      "[CV] END .....................max_depth=30, n_estimators=300; total time=16.9min\n",
      "[CV] END .....................max_depth=30, n_estimators=300; total time=18.9min\n",
      "[CV] END .....................max_depth=30, n_estimators=300; total time=19.1min\n",
      "[CV] END .....................max_depth=30, n_estimators=300; total time=19.2min\n",
      "[CV] END .....................max_depth=10, n_estimators=200; total time= 6.1min\n",
      "[CV] END .....................max_depth=10, n_estimators=200; total time= 6.1min\n",
      "[CV] END .....................max_depth=10, n_estimators=200; total time= 6.3min\n",
      "[CV] END .....................max_depth=10, n_estimators=200; total time= 6.1min\n",
      "[CV] END .....................max_depth=10, n_estimators=200; total time= 6.7min\n"
     ]
    },
    {
     "data": {
      "text/plain": [
       "RandomizedSearchCV(cv=5,\n",
       "                   estimator=RandomForestRegressor(max_depth=30,\n",
       "                                                   random_state=0),\n",
       "                   n_iter=3,\n",
       "                   param_distributions={'max_depth': array([10, 20, 30]),\n",
       "                                        'n_estimators': array([200, 300, 400, 500])},\n",
       "                   random_state=42, verbose=2)"
      ]
     },
     "execution_count": 57,
     "metadata": {},
     "output_type": "execute_result"
    }
   ],
   "source": [
    "rf_random.fit(X_train, y_train)"
   ]
  },
  {
   "cell_type": "code",
   "execution_count": 59,
   "metadata": {
    "ExecuteTime": {
     "end_time": "2020-09-22T09:42:27.243502Z",
     "start_time": "2020-09-22T09:42:27.226607Z"
    }
   },
   "outputs": [
    {
     "data": {
      "text/plain": [
       "{'n_estimators': 300, 'max_depth': 30}"
      ]
     },
     "execution_count": 59,
     "metadata": {},
     "output_type": "execute_result"
    }
   ],
   "source": [
    "rf_random.best_params_"
   ]
  },
  {
   "cell_type": "markdown",
   "metadata": {},
   "source": [
    "## Re-run "
   ]
  },
  {
   "cell_type": "code",
   "execution_count": 44,
   "metadata": {
    "ExecuteTime": {
     "end_time": "2020-09-21T07:57:21.449819Z",
     "start_time": "2020-09-21T07:57:21.446652Z"
    }
   },
   "outputs": [],
   "source": [
    "# rf = RandomForestRegressor(**rf_random.best_params_, random_state = 1)"
   ]
  },
  {
   "cell_type": "code",
   "execution_count": 45,
   "metadata": {
    "ExecuteTime": {
     "end_time": "2020-09-21T07:57:21.457559Z",
     "start_time": "2020-09-21T07:57:21.453531Z"
    }
   },
   "outputs": [],
   "source": [
    "# y_pred = rf.predict(X_test)"
   ]
  },
  {
   "cell_type": "code",
   "execution_count": 46,
   "metadata": {
    "ExecuteTime": {
     "end_time": "2020-09-21T07:57:21.465621Z",
     "start_time": "2020-09-21T07:57:21.462612Z"
    }
   },
   "outputs": [],
   "source": [
    "# print(f'{r2_score(y_test, y_pred):.2%}')"
   ]
  },
  {
   "cell_type": "markdown",
   "metadata": {},
   "source": [
    "# Save model"
   ]
  },
  {
   "cell_type": "code",
   "execution_count": 60,
   "metadata": {
    "ExecuteTime": {
     "end_time": "2020-09-22T14:24:52.521645Z",
     "start_time": "2020-09-22T14:24:50.861731Z"
    }
   },
   "outputs": [
    {
     "data": {
      "text/plain": [
       "['rf_model.joblib']"
      ]
     },
     "execution_count": 60,
     "metadata": {},
     "output_type": "execute_result"
    }
   ],
   "source": [
    "# dump(rf, 'rf_model.joblib') \n",
    "dump(rf, 'rf_model.joblib',compress=3)\n",
    "# dump(rf, 'rf_model.pkl.z')"
   ]
  },
  {
   "cell_type": "markdown",
   "metadata": {},
   "source": [
    "# Predict on country"
   ]
  },
  {
   "cell_type": "code",
   "execution_count": 48,
   "metadata": {
    "ExecuteTime": {
     "end_time": "2020-09-21T07:57:23.414757Z",
     "start_time": "2020-09-21T07:57:23.408950Z"
    }
   },
   "outputs": [],
   "source": [
    "input_val = 'Germany'"
   ]
  },
  {
   "cell_type": "code",
   "execution_count": 49,
   "metadata": {
    "ExecuteTime": {
     "end_time": "2020-09-21T07:57:23.438015Z",
     "start_time": "2020-09-21T07:57:23.420489Z"
    }
   },
   "outputs": [
    {
     "data": {
      "text/plain": [
       "array([ 0,  0,  0, ..., 92, 92, 92])"
      ]
     },
     "execution_count": 49,
     "metadata": {},
     "output_type": "execute_result"
    }
   ],
   "source": [
    "encoder.fit_transform(df_orig['location'])"
   ]
  },
  {
   "cell_type": "code",
   "execution_count": 50,
   "metadata": {
    "ExecuteTime": {
     "end_time": "2020-09-21T07:57:23.444702Z",
     "start_time": "2020-09-21T07:57:23.440620Z"
    }
   },
   "outputs": [],
   "source": [
    "encode_ind = (encoder.classes_).tolist().index(input_val)"
   ]
  },
  {
   "cell_type": "code",
   "execution_count": 51,
   "metadata": {
    "ExecuteTime": {
     "end_time": "2020-09-21T07:57:23.510774Z",
     "start_time": "2020-09-21T07:57:23.449155Z"
    }
   },
   "outputs": [
    {
     "data": {
      "text/html": [
       "<div>\n",
       "<style scoped>\n",
       "    .dataframe tbody tr th:only-of-type {\n",
       "        vertical-align: middle;\n",
       "    }\n",
       "\n",
       "    .dataframe tbody tr th {\n",
       "        vertical-align: top;\n",
       "    }\n",
       "\n",
       "    .dataframe thead th {\n",
       "        text-align: right;\n",
       "    }\n",
       "</style>\n",
       "<table border=\"1\" class=\"dataframe\">\n",
       "  <thead>\n",
       "    <tr style=\"text-align: right;\">\n",
       "      <th></th>\n",
       "      <th>iso_code</th>\n",
       "      <th>continent</th>\n",
       "      <th>location</th>\n",
       "      <th>date</th>\n",
       "      <th>total_cases</th>\n",
       "      <th>new_cases</th>\n",
       "      <th>new_cases_smoothed</th>\n",
       "      <th>total_deaths</th>\n",
       "      <th>new_deaths</th>\n",
       "      <th>new_deaths_smoothed</th>\n",
       "      <th>...</th>\n",
       "      <th>gdp_per_capita</th>\n",
       "      <th>extreme_poverty</th>\n",
       "      <th>cardiovasc_death_rate</th>\n",
       "      <th>diabetes_prevalence</th>\n",
       "      <th>female_smokers</th>\n",
       "      <th>male_smokers</th>\n",
       "      <th>handwashing_facilities</th>\n",
       "      <th>hospital_beds_per_thousand</th>\n",
       "      <th>life_expectancy</th>\n",
       "      <th>human_development_index</th>\n",
       "    </tr>\n",
       "  </thead>\n",
       "  <tbody>\n",
       "    <tr>\n",
       "      <th>15535</th>\n",
       "      <td>DEU</td>\n",
       "      <td>Europe</td>\n",
       "      <td>Germany</td>\n",
       "      <td>2019-12-31</td>\n",
       "      <td>0.0</td>\n",
       "      <td>0.0</td>\n",
       "      <td>NaN</td>\n",
       "      <td>0.0</td>\n",
       "      <td>0.0</td>\n",
       "      <td>NaN</td>\n",
       "      <td>...</td>\n",
       "      <td>45229.245</td>\n",
       "      <td>NaN</td>\n",
       "      <td>156.139</td>\n",
       "      <td>8.31</td>\n",
       "      <td>28.2</td>\n",
       "      <td>33.1</td>\n",
       "      <td>NaN</td>\n",
       "      <td>8.0</td>\n",
       "      <td>81.33</td>\n",
       "      <td>0.936</td>\n",
       "    </tr>\n",
       "    <tr>\n",
       "      <th>15536</th>\n",
       "      <td>DEU</td>\n",
       "      <td>Europe</td>\n",
       "      <td>Germany</td>\n",
       "      <td>2020-01-01</td>\n",
       "      <td>0.0</td>\n",
       "      <td>0.0</td>\n",
       "      <td>NaN</td>\n",
       "      <td>0.0</td>\n",
       "      <td>0.0</td>\n",
       "      <td>NaN</td>\n",
       "      <td>...</td>\n",
       "      <td>45229.245</td>\n",
       "      <td>NaN</td>\n",
       "      <td>156.139</td>\n",
       "      <td>8.31</td>\n",
       "      <td>28.2</td>\n",
       "      <td>33.1</td>\n",
       "      <td>NaN</td>\n",
       "      <td>8.0</td>\n",
       "      <td>81.33</td>\n",
       "      <td>0.936</td>\n",
       "    </tr>\n",
       "    <tr>\n",
       "      <th>15537</th>\n",
       "      <td>DEU</td>\n",
       "      <td>Europe</td>\n",
       "      <td>Germany</td>\n",
       "      <td>2020-01-02</td>\n",
       "      <td>0.0</td>\n",
       "      <td>0.0</td>\n",
       "      <td>NaN</td>\n",
       "      <td>0.0</td>\n",
       "      <td>0.0</td>\n",
       "      <td>NaN</td>\n",
       "      <td>...</td>\n",
       "      <td>45229.245</td>\n",
       "      <td>NaN</td>\n",
       "      <td>156.139</td>\n",
       "      <td>8.31</td>\n",
       "      <td>28.2</td>\n",
       "      <td>33.1</td>\n",
       "      <td>NaN</td>\n",
       "      <td>8.0</td>\n",
       "      <td>81.33</td>\n",
       "      <td>0.936</td>\n",
       "    </tr>\n",
       "    <tr>\n",
       "      <th>15538</th>\n",
       "      <td>DEU</td>\n",
       "      <td>Europe</td>\n",
       "      <td>Germany</td>\n",
       "      <td>2020-01-03</td>\n",
       "      <td>0.0</td>\n",
       "      <td>0.0</td>\n",
       "      <td>NaN</td>\n",
       "      <td>0.0</td>\n",
       "      <td>0.0</td>\n",
       "      <td>NaN</td>\n",
       "      <td>...</td>\n",
       "      <td>45229.245</td>\n",
       "      <td>NaN</td>\n",
       "      <td>156.139</td>\n",
       "      <td>8.31</td>\n",
       "      <td>28.2</td>\n",
       "      <td>33.1</td>\n",
       "      <td>NaN</td>\n",
       "      <td>8.0</td>\n",
       "      <td>81.33</td>\n",
       "      <td>0.936</td>\n",
       "    </tr>\n",
       "    <tr>\n",
       "      <th>15539</th>\n",
       "      <td>DEU</td>\n",
       "      <td>Europe</td>\n",
       "      <td>Germany</td>\n",
       "      <td>2020-01-04</td>\n",
       "      <td>0.0</td>\n",
       "      <td>0.0</td>\n",
       "      <td>NaN</td>\n",
       "      <td>0.0</td>\n",
       "      <td>0.0</td>\n",
       "      <td>NaN</td>\n",
       "      <td>...</td>\n",
       "      <td>45229.245</td>\n",
       "      <td>NaN</td>\n",
       "      <td>156.139</td>\n",
       "      <td>8.31</td>\n",
       "      <td>28.2</td>\n",
       "      <td>33.1</td>\n",
       "      <td>NaN</td>\n",
       "      <td>8.0</td>\n",
       "      <td>81.33</td>\n",
       "      <td>0.936</td>\n",
       "    </tr>\n",
       "    <tr>\n",
       "      <th>...</th>\n",
       "      <td>...</td>\n",
       "      <td>...</td>\n",
       "      <td>...</td>\n",
       "      <td>...</td>\n",
       "      <td>...</td>\n",
       "      <td>...</td>\n",
       "      <td>...</td>\n",
       "      <td>...</td>\n",
       "      <td>...</td>\n",
       "      <td>...</td>\n",
       "      <td>...</td>\n",
       "      <td>...</td>\n",
       "      <td>...</td>\n",
       "      <td>...</td>\n",
       "      <td>...</td>\n",
       "      <td>...</td>\n",
       "      <td>...</td>\n",
       "      <td>...</td>\n",
       "      <td>...</td>\n",
       "      <td>...</td>\n",
       "      <td>...</td>\n",
       "    </tr>\n",
       "    <tr>\n",
       "      <th>15795</th>\n",
       "      <td>DEU</td>\n",
       "      <td>Europe</td>\n",
       "      <td>Germany</td>\n",
       "      <td>2020-09-16</td>\n",
       "      <td>263663.0</td>\n",
       "      <td>1901.0</td>\n",
       "      <td>1455.571</td>\n",
       "      <td>9368.0</td>\n",
       "      <td>6.0</td>\n",
       "      <td>4.286</td>\n",
       "      <td>...</td>\n",
       "      <td>45229.245</td>\n",
       "      <td>NaN</td>\n",
       "      <td>156.139</td>\n",
       "      <td>8.31</td>\n",
       "      <td>28.2</td>\n",
       "      <td>33.1</td>\n",
       "      <td>NaN</td>\n",
       "      <td>8.0</td>\n",
       "      <td>81.33</td>\n",
       "      <td>0.936</td>\n",
       "    </tr>\n",
       "    <tr>\n",
       "      <th>15796</th>\n",
       "      <td>DEU</td>\n",
       "      <td>Europe</td>\n",
       "      <td>Germany</td>\n",
       "      <td>2020-09-17</td>\n",
       "      <td>265857.0</td>\n",
       "      <td>2194.0</td>\n",
       "      <td>1498.714</td>\n",
       "      <td>9371.0</td>\n",
       "      <td>3.0</td>\n",
       "      <td>4.286</td>\n",
       "      <td>...</td>\n",
       "      <td>45229.245</td>\n",
       "      <td>NaN</td>\n",
       "      <td>156.139</td>\n",
       "      <td>8.31</td>\n",
       "      <td>28.2</td>\n",
       "      <td>33.1</td>\n",
       "      <td>NaN</td>\n",
       "      <td>8.0</td>\n",
       "      <td>81.33</td>\n",
       "      <td>0.936</td>\n",
       "    </tr>\n",
       "    <tr>\n",
       "      <th>15797</th>\n",
       "      <td>DEU</td>\n",
       "      <td>Europe</td>\n",
       "      <td>Germany</td>\n",
       "      <td>2020-09-18</td>\n",
       "      <td>267773.0</td>\n",
       "      <td>1916.0</td>\n",
       "      <td>1560.429</td>\n",
       "      <td>9378.0</td>\n",
       "      <td>7.0</td>\n",
       "      <td>5.143</td>\n",
       "      <td>...</td>\n",
       "      <td>45229.245</td>\n",
       "      <td>NaN</td>\n",
       "      <td>156.139</td>\n",
       "      <td>8.31</td>\n",
       "      <td>28.2</td>\n",
       "      <td>33.1</td>\n",
       "      <td>NaN</td>\n",
       "      <td>8.0</td>\n",
       "      <td>81.33</td>\n",
       "      <td>0.936</td>\n",
       "    </tr>\n",
       "    <tr>\n",
       "      <th>15798</th>\n",
       "      <td>DEU</td>\n",
       "      <td>Europe</td>\n",
       "      <td>Germany</td>\n",
       "      <td>2020-09-19</td>\n",
       "      <td>270070.0</td>\n",
       "      <td>2297.0</td>\n",
       "      <td>1655.714</td>\n",
       "      <td>9384.0</td>\n",
       "      <td>6.0</td>\n",
       "      <td>5.286</td>\n",
       "      <td>...</td>\n",
       "      <td>45229.245</td>\n",
       "      <td>NaN</td>\n",
       "      <td>156.139</td>\n",
       "      <td>8.31</td>\n",
       "      <td>28.2</td>\n",
       "      <td>33.1</td>\n",
       "      <td>NaN</td>\n",
       "      <td>8.0</td>\n",
       "      <td>81.33</td>\n",
       "      <td>0.936</td>\n",
       "    </tr>\n",
       "    <tr>\n",
       "      <th>15799</th>\n",
       "      <td>DEU</td>\n",
       "      <td>Europe</td>\n",
       "      <td>Germany</td>\n",
       "      <td>2020-09-20</td>\n",
       "      <td>271415.0</td>\n",
       "      <td>1345.0</td>\n",
       "      <td>1712.429</td>\n",
       "      <td>9386.0</td>\n",
       "      <td>2.0</td>\n",
       "      <td>5.286</td>\n",
       "      <td>...</td>\n",
       "      <td>45229.245</td>\n",
       "      <td>NaN</td>\n",
       "      <td>156.139</td>\n",
       "      <td>8.31</td>\n",
       "      <td>28.2</td>\n",
       "      <td>33.1</td>\n",
       "      <td>NaN</td>\n",
       "      <td>8.0</td>\n",
       "      <td>81.33</td>\n",
       "      <td>0.936</td>\n",
       "    </tr>\n",
       "  </tbody>\n",
       "</table>\n",
       "<p>265 rows × 41 columns</p>\n",
       "</div>"
      ],
      "text/plain": [
       "      iso_code continent location        date  total_cases  new_cases  \\\n",
       "15535      DEU    Europe  Germany  2019-12-31          0.0        0.0   \n",
       "15536      DEU    Europe  Germany  2020-01-01          0.0        0.0   \n",
       "15537      DEU    Europe  Germany  2020-01-02          0.0        0.0   \n",
       "15538      DEU    Europe  Germany  2020-01-03          0.0        0.0   \n",
       "15539      DEU    Europe  Germany  2020-01-04          0.0        0.0   \n",
       "...        ...       ...      ...         ...          ...        ...   \n",
       "15795      DEU    Europe  Germany  2020-09-16     263663.0     1901.0   \n",
       "15796      DEU    Europe  Germany  2020-09-17     265857.0     2194.0   \n",
       "15797      DEU    Europe  Germany  2020-09-18     267773.0     1916.0   \n",
       "15798      DEU    Europe  Germany  2020-09-19     270070.0     2297.0   \n",
       "15799      DEU    Europe  Germany  2020-09-20     271415.0     1345.0   \n",
       "\n",
       "       new_cases_smoothed  total_deaths  new_deaths  new_deaths_smoothed  ...  \\\n",
       "15535                 NaN           0.0         0.0                  NaN  ...   \n",
       "15536                 NaN           0.0         0.0                  NaN  ...   \n",
       "15537                 NaN           0.0         0.0                  NaN  ...   \n",
       "15538                 NaN           0.0         0.0                  NaN  ...   \n",
       "15539                 NaN           0.0         0.0                  NaN  ...   \n",
       "...                   ...           ...         ...                  ...  ...   \n",
       "15795            1455.571        9368.0         6.0                4.286  ...   \n",
       "15796            1498.714        9371.0         3.0                4.286  ...   \n",
       "15797            1560.429        9378.0         7.0                5.143  ...   \n",
       "15798            1655.714        9384.0         6.0                5.286  ...   \n",
       "15799            1712.429        9386.0         2.0                5.286  ...   \n",
       "\n",
       "       gdp_per_capita  extreme_poverty  cardiovasc_death_rate  \\\n",
       "15535       45229.245              NaN                156.139   \n",
       "15536       45229.245              NaN                156.139   \n",
       "15537       45229.245              NaN                156.139   \n",
       "15538       45229.245              NaN                156.139   \n",
       "15539       45229.245              NaN                156.139   \n",
       "...               ...              ...                    ...   \n",
       "15795       45229.245              NaN                156.139   \n",
       "15796       45229.245              NaN                156.139   \n",
       "15797       45229.245              NaN                156.139   \n",
       "15798       45229.245              NaN                156.139   \n",
       "15799       45229.245              NaN                156.139   \n",
       "\n",
       "       diabetes_prevalence  female_smokers  male_smokers  \\\n",
       "15535                 8.31            28.2          33.1   \n",
       "15536                 8.31            28.2          33.1   \n",
       "15537                 8.31            28.2          33.1   \n",
       "15538                 8.31            28.2          33.1   \n",
       "15539                 8.31            28.2          33.1   \n",
       "...                    ...             ...           ...   \n",
       "15795                 8.31            28.2          33.1   \n",
       "15796                 8.31            28.2          33.1   \n",
       "15797                 8.31            28.2          33.1   \n",
       "15798                 8.31            28.2          33.1   \n",
       "15799                 8.31            28.2          33.1   \n",
       "\n",
       "       handwashing_facilities  hospital_beds_per_thousand  life_expectancy  \\\n",
       "15535                     NaN                         8.0            81.33   \n",
       "15536                     NaN                         8.0            81.33   \n",
       "15537                     NaN                         8.0            81.33   \n",
       "15538                     NaN                         8.0            81.33   \n",
       "15539                     NaN                         8.0            81.33   \n",
       "...                       ...                         ...              ...   \n",
       "15795                     NaN                         8.0            81.33   \n",
       "15796                     NaN                         8.0            81.33   \n",
       "15797                     NaN                         8.0            81.33   \n",
       "15798                     NaN                         8.0            81.33   \n",
       "15799                     NaN                         8.0            81.33   \n",
       "\n",
       "       human_development_index  \n",
       "15535                    0.936  \n",
       "15536                    0.936  \n",
       "15537                    0.936  \n",
       "15538                    0.936  \n",
       "15539                    0.936  \n",
       "...                        ...  \n",
       "15795                    0.936  \n",
       "15796                    0.936  \n",
       "15797                    0.936  \n",
       "15798                    0.936  \n",
       "15799                    0.936  \n",
       "\n",
       "[265 rows x 41 columns]"
      ]
     },
     "execution_count": 51,
     "metadata": {},
     "output_type": "execute_result"
    }
   ],
   "source": [
    "df_orig[df_orig.location == input_val]"
   ]
  },
  {
   "cell_type": "code",
   "execution_count": 52,
   "metadata": {
    "ExecuteTime": {
     "end_time": "2020-09-21T07:57:23.522582Z",
     "start_time": "2020-09-21T07:57:23.512950Z"
    }
   },
   "outputs": [],
   "source": [
    "to_pred = X[X.location == encode_ind].iloc[-1].values.reshape(1,-1)"
   ]
  },
  {
   "cell_type": "code",
   "execution_count": 53,
   "metadata": {
    "ExecuteTime": {
     "end_time": "2020-09-21T07:57:23.543155Z",
     "start_time": "2020-09-21T07:57:23.525128Z"
    }
   },
   "outputs": [
    {
     "data": {
      "text/plain": [
       "1838.76"
      ]
     },
     "execution_count": 53,
     "metadata": {},
     "output_type": "execute_result"
    }
   ],
   "source": [
    "rf.predict(to_pred)[0] "
   ]
  },
  {
   "cell_type": "code",
   "execution_count": null,
   "metadata": {},
   "outputs": [],
   "source": []
  }
 ],
 "metadata": {
  "hide_input": false,
  "kernelspec": {
   "display_name": "mle_predict_covid--user",
   "language": "python",
   "name": "mle_predict_covid--user"
  },
  "language_info": {
   "codemirror_mode": {
    "name": "ipython",
    "version": 3
   },
   "file_extension": ".py",
   "mimetype": "text/x-python",
   "name": "python",
   "nbconvert_exporter": "python",
   "pygments_lexer": "ipython3",
   "version": "3.7.15"
  },
  "toc": {
   "base_numbering": 1,
   "nav_menu": {},
   "number_sections": true,
   "sideBar": true,
   "skip_h1_title": false,
   "title_cell": "Table of Contents",
   "title_sidebar": "Contents",
   "toc_cell": false,
   "toc_position": {
    "height": "calc(100% - 180px)",
    "left": "10px",
    "top": "150px",
    "width": "336px"
   },
   "toc_section_display": true,
   "toc_window_display": true
  },
  "vscode": {
   "interpreter": {
    "hash": "aee8b7b246df8f9039afb4144a1f6fd8d2ca17a180786b69acc140d282b71a49"
   }
  }
 },
 "nbformat": 4,
 "nbformat_minor": 4
}
